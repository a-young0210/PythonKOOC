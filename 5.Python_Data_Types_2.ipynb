{
 "cells": [
  {
   "cell_type": "markdown",
   "id": "200ab1b1-d4b1-4a9a-be50-e53f3d3c8605",
   "metadata": {},
   "source": [
    "# Python: Dictionaries and Sets"
   ]
  },
  {
   "cell_type": "markdown",
   "id": "f672c87b-7222-4d88-a820-82c369910449",
   "metadata": {},
   "source": [
    "- __Dictionaries__ are used for presenting and storing data as key-value pairs. Key-value pairs of dictionary is \n",
    "__mapping the immutable keys to their values__. An English dictionary is a case of mapping (keys) to\n",
    "their definions (values). In English dictionaries, words (key) are alphabetically ordered\n",
    "Python are not ordered because what is important is one to one mapping, not ordered\n",
    "- A set of data is a __unordered collection__ of data, which are __unique and immutable__. --> indexing에 기반한 slicing 불가\n",
    "- Dictionaries and sets are __iterables but slicing with index is not allowed__ \n",
    "__Indexing is possible for dictionaries but not possible for sets__."
   ]
  },
  {
   "cell_type": "markdown",
   "id": "254ba62d-2e26-4678-ae8b-488d2418ac0b",
   "metadata": {},
   "source": [
    "## 1. Dicionaries: Creating, updatingm and oprations"
   ]
  },
  {
   "cell_type": "markdown",
   "id": "987be6a0-93b3-4328-9c64-685243d5de0d",
   "metadata": {},
   "source": [
    "- __Keys must be unique (no overlapping elements) and immutable.__\n",
    "- However, keys can have the same value.\n",
    "- Dictionaries are often used in ML for providing values to variables."
   ]
  },
  {
   "cell_type": "code",
   "execution_count": 1,
   "id": "3e12061f-553c-4cae-8ffe-2a7edd8a2902",
   "metadata": {},
   "outputs": [
    {
     "name": "stdout",
     "output_type": "stream",
     "text": [
      "{'Korea': 'kr', 'Japan': 'jp', 'Taiwan': 'tw', 'Finland': 'fl'}\n",
      "4\n",
      "kr\n"
     ]
    }
   ],
   "source": [
    "# Making a dictionary with a comma separated paired list, {key: values, key:value, ...}\n",
    "countries = {'Korea':'kr', 'Japan':'jp', 'Taiwan': 'tw', 'Finland':'fl'}\n",
    "print(countries)            # printing the dictionary\n",
    "print(len(countries))       # counting the number of paired elements\n",
    "print(countries['Korea'])   # getting the value corresponding to a key  "
   ]
  },
  {
   "cell_type": "code",
   "execution_count": 2,
   "id": "3eb15882-f394-4bd2-be27-8919798f8660",
   "metadata": {},
   "outputs": [
    {
     "name": "stdout",
     "output_type": "stream",
     "text": [
      "False\n",
      "{'Korea': 82, 'Japan': 'jp', 'Taiwan': 'tw', 'Finland': 'fl'}\n",
      "{'Korea': 82, 'Japan': '81', 'Taiwan': 'tw', 'Finland': 'fl'}\n",
      "{'Korea': 82, 'Japan': '81', 'Taiwan': 'tw', 'Finland': 'fl', 'Canada': 'ca'}\n",
      "{'Korea': 82, 'Japan': '81', 'Taiwan': 'tw', 'Finland': 'fl', 'Canada': 'ca', 'China': 'cn'}\n",
      "{'Japan': '81', 'Taiwan': 'tw', 'Finland': 'fl', 'Canada': 'ca', 'China': 'cn'}\n"
     ]
    }
   ],
   "source": [
    "# Dictionary operations\n",
    "# in은 존재여부 확인할 때 사용\n",
    "print('korea' in countries)      # checking if Korea is in the dictionary\n",
    "countries['Korea'] = 82          # changing value of a key\n",
    "print(countries)\n",
    "countries.update(Japan = '81')   # changing value with update method\n",
    "print(countries)\n",
    "countries['Canada'] = 'ca'       # adding a paired element\n",
    "print(countries)\n",
    "# update는 없으면 추가해줌\n",
    "countries.update(China = 'cn')   # adding a pair with update method\n",
    "print(countries)\n",
    "del countries['Korea']           # deleting a paired element\n",
    "print(countries)"
   ]
  },
  {
   "cell_type": "code",
   "execution_count": 6,
   "id": "acd8fdb0-ee76-475f-97c9-2f71c1769ef8",
   "metadata": {},
   "outputs": [
    {
     "name": "stdout",
     "output_type": "stream",
     "text": [
      "None\n",
      "81\n"
     ]
    },
    {
     "ename": "KeyError",
     "evalue": "'Korea'",
     "output_type": "error",
     "traceback": [
      "\u001b[0;31m---------------------------------------------------------------------------\u001b[0m",
      "\u001b[0;31mKeyError\u001b[0m                                  Traceback (most recent call last)",
      "\u001b[0;32m<ipython-input-6-4b9218049dd7>\u001b[0m in \u001b[0;36m<module>\u001b[0;34m\u001b[0m\n\u001b[1;32m      4\u001b[0m \u001b[0mprint\u001b[0m\u001b[0;34m(\u001b[0m\u001b[0mcountries\u001b[0m\u001b[0;34m.\u001b[0m\u001b[0mget\u001b[0m\u001b[0;34m(\u001b[0m\u001b[0;34m'Japan'\u001b[0m\u001b[0;34m)\u001b[0m\u001b[0;34m)\u001b[0m\u001b[0;34m\u001b[0m\u001b[0;34m\u001b[0m\u001b[0m\n\u001b[1;32m      5\u001b[0m \u001b[0;34m\u001b[0m\u001b[0m\n\u001b[0;32m----> 6\u001b[0;31m \u001b[0mprint\u001b[0m\u001b[0;34m(\u001b[0m\u001b[0mcountries\u001b[0m\u001b[0;34m[\u001b[0m\u001b[0;34m'Korea'\u001b[0m\u001b[0;34m]\u001b[0m\u001b[0;34m)\u001b[0m  \u001b[0;31m# 이렇게 하면 에러가 뜸\u001b[0m\u001b[0;34m\u001b[0m\u001b[0;34m\u001b[0m\u001b[0m\n\u001b[0m",
      "\u001b[0;31mKeyError\u001b[0m: 'Korea'"
     ]
    }
   ],
   "source": [
    "# Dictionary operations\n",
    "# get을 이용하면 none 반환\n",
    "print(countries.get('Korea'))   # if non-exist, None is returned\n",
    "print(countries.get('Japan'))\n",
    "\n",
    "print(countries['Korea'])  # 이렇게 하면 에러가 뜸"
   ]
  },
  {
   "cell_type": "code",
   "execution_count": null,
   "id": "2e0a3412-9787-4179-b11b-0204cdf2def8",
   "metadata": {},
   "outputs": [],
   "source": []
  },
  {
   "cell_type": "markdown",
   "id": "21eda0ca-b58a-46ea-9d93-7c60b972a5a4",
   "metadata": {},
   "source": [
    "## 2. Dictionaries: Iterations and extractions"
   ]
  },
  {
   "cell_type": "code",
   "execution_count": 3,
   "id": "5429b05b-f8e6-403c-aa87-96bc82861d4f",
   "metadata": {},
   "outputs": [
    {
     "name": "stdout",
     "output_type": "stream",
     "text": [
      "The country cod of Korea is kr.\n",
      "The country cod of Japan is jp.\n",
      "The country cod of Taiwan is tw.\n",
      "The country cod of Finland is fl.\n"
     ]
    }
   ],
   "source": [
    "# Iterating elements ina. dictionary 1\n",
    "countries = {'Korea':'kr', 'Japan':'jp', 'Taiwan':'tw', 'Finland':'fl'}\n",
    "for country, code in countries.items():   #items method returns key and value\n",
    "    print(f'The country cod of {country} is {code}.')"
   ]
  },
  {
   "cell_type": "code",
   "execution_count": 2,
   "id": "d84f8497-aec1-4fc8-8402-6bcf63a460cc",
   "metadata": {},
   "outputs": [
    {
     "name": "stdout",
     "output_type": "stream",
     "text": [
      "Korea Japan Taiwan Finland \n",
      "kr jp tw fl "
     ]
    }
   ],
   "source": [
    "# Iterating elements ina. dictionary 2\n",
    "for country in countries.keys():\n",
    "    print(country, end=' ')\n",
    "print()\n",
    "for codes in countries.values():\n",
    "    print(codes, end=' ')"
   ]
  },
  {
   "cell_type": "code",
   "execution_count": 7,
   "id": "f58aade8-de34-4e08-b101-3d9996383bd4",
   "metadata": {},
   "outputs": [
    {
     "name": "stdout",
     "output_type": "stream",
     "text": [
      "['Korea', 'Japan', 'Taiwan', 'Finland']\n",
      "[82, 81, 886, 358]\n",
      "[('Korea', 82), ('Japan', 81), ('Taiwan', 886), ('Finland', 358)] ('Japan', 81)\n",
      "([('Korea', 82), ('Japan', 81), ('Taiwan', 886), ('Finland', 358)], [('Korea', 82), ('Japan', 81)])\n"
     ]
    }
   ],
   "source": [
    "# Extracting keys, values, and elements of dictionaries\n",
    "c_codes = {'Korea':82, 'Japan':81, 'Taiwan':886, 'Finland':358}\n",
    "print(list(c_codes.keys()))\n",
    "print(list(c_codes.values()))\n",
    "l_countries = list(c_codes.items())\n",
    "print(l_countries, l_countries[1])\n",
    "sliced_c = l_countries, l_countries[:2]\n",
    "print(sliced_c)"
   ]
  },
  {
   "cell_type": "markdown",
   "id": "e7bf1d10-77e8-4394-a13c-00440745c0ad",
   "metadata": {},
   "source": [
    "(Exercise) Printing the country name and code without using items() method?"
   ]
  },
  {
   "cell_type": "code",
   "execution_count": 10,
   "id": "751ba782-295d-48a0-9605-683e06d934a6",
   "metadata": {},
   "outputs": [
    {
     "name": "stdout",
     "output_type": "stream",
     "text": [
      "The country code of Korea is kr.\n",
      "The country code of Japan is jp.\n",
      "The country code of Taiwan is tw.\n",
      "The country code of Finland is fl.\n"
     ]
    }
   ],
   "source": [
    "for i, j in zip(countries.keys(), countries.values()):\n",
    "    print(f'The country code of {i} is {j}.')"
   ]
  },
  {
   "cell_type": "markdown",
   "id": "4b895bef-413b-4fa3-9d7d-2cdaa3a4addd",
   "metadata": {},
   "source": [
    "## 3.Dictionaries: Sorting and comprehension expressions"
   ]
  },
  {
   "cell_type": "code",
   "execution_count": 12,
   "id": "d908fa8f-1842-4389-a81b-d031de7a40b2",
   "metadata": {},
   "outputs": [
    {
     "name": "stdout",
     "output_type": "stream",
     "text": [
      "['Finland', 'Japan', 'Korea', 'Taiwan']\n",
      "['Finland', 'Japan', 'Korea', 'Taiwan']\n",
      "[81, 82, 358, 886]\n",
      "[('Finland', 358), ('Japan', 81), ('Korea', 82), ('Taiwan', 886)]\n"
     ]
    }
   ],
   "source": [
    "# Sorting dictionary itmes\n",
    "print(sorted(c_codes))   # key값이 돌려짐\n",
    "print(sorted(c_codes.keys()))\n",
    "print(sorted(c_codes.values()))\n",
    "print(sorted(c_codes.items()))"
   ]
  },
  {
   "cell_type": "code",
   "execution_count": 15,
   "id": "ad38bc3a-287d-477e-8193-4b25d8a372ed",
   "metadata": {},
   "outputs": [
    {
     "name": "stdout",
     "output_type": "stream",
     "text": [
      "[(81, 'Japan'), (82, 'Korea'), (358, 'Finland'), (886, 'Taiwan')]\n",
      "{'Japan': 27.666666666666668, 'Korea': 26.666666666666668}\n",
      "{'Japan': 81, 'Korea': 82, 'Finland': 358, 'Taiwan': 886}\n"
     ]
    }
   ],
   "source": [
    "# Dictionary comprehension: switching keys and values\n",
    "switched = {code: country for country, code in c_codes.items()}\n",
    "print(sorted(switched.items()))\n",
    "\n",
    "# Making a new dictionary with a dictionary\n",
    "temperature = {'Japan':[23, 34, 26], 'Korea':[22, 33, 25]}\n",
    "temp_mean = {k: sum(v)/len(v) for k, v in temperature.items()}\n",
    "print(temp_mean)\n",
    "\n",
    "s_value = {k: v for k, v in sorted(c_codes.items(), key=lambda country: country[1])}   # sorting을 items로 할 때 value 값으로 하고 싶어\n",
    "print(s_value)"
   ]
  },
  {
   "cell_type": "code",
   "execution_count": 1,
   "id": "895c569b-f222-4835-8aad-2d4d1e9cdf1c",
   "metadata": {},
   "outputs": [],
   "source": [
    "# Tokenizing strings\n",
    "dream = \"\"\"I have a dream that one day this nation will rise up and live out the true meaning of its creed We hold these truths to be self-evident that all men are created equal\n",
    "I have a dream that one day on the red hills of Georgia the sons of former slaves and the sons of former slave owners will be able to sit down together at the table of brotherhood\n",
    "I have a dream that one day even the state of Mississippi a state sweltering with the heat of injustice sweltering with the heat of oppression, will be transformed into an oasis of freedom and justice\n",
    "I have a dream that my four little children will one day live in a nation where they will not be judged by the color of their skin but by the content of their character\n",
    "I have a dream today\n",
    "I have a dream that one day, down in Alabama, with its vicious racists, with its governor having his lips dripping with the words of interposition and nullification one day right there in Alabama little black boys and black girls will be able to join hands with little white boys and white girls as sisters and brothers\"\"\""
   ]
  },
  {
   "cell_type": "code",
   "execution_count": 4,
   "id": "8cf6862a-7bb8-44b4-a744-9302c835b753",
   "metadata": {},
   "outputs": [
    {
     "name": "stdout",
     "output_type": "stream",
     "text": [
      "{'I': 6, 'have': 6, 'a': 8, 'dream': 6, 'that': 6, 'one': 6, 'day': 5, 'this': 1, 'nation': 2, 'will': 6, 'rise': 1, 'up': 1, 'and': 7, 'live': 2, 'out': 1, 'the': 11, 'true': 1, 'meaning': 1, 'of': 12, 'its': 3, 'creed': 1, 'We': 1, 'hold': 1, 'these': 1, 'truths': 1, 'to': 3, 'be': 5, 'self-evident': 1, 'all': 1, 'men': 1, 'are': 1, 'created': 1, 'equal': 1, 'on': 1, 'red': 1, 'hills': 1, 'Georgia': 1, 'sons': 2, 'former': 2, 'slaves': 1, 'slave': 1, 'owners': 1, 'able': 2, 'sit': 1, 'down': 2, 'together': 1, 'at': 1, 'table': 1, 'brotherhood': 1, 'even': 1, 'state': 2, 'Mississippi': 1, 'sweltering': 2, 'with': 6, 'heat': 2, 'injustice': 1, 'oppression,': 1, 'transformed': 1, 'into': 1, 'an': 1, 'oasis': 1, 'freedom': 1, 'justice': 1, 'my': 1, 'four': 1, 'little': 3, 'children': 1, 'in': 3, 'where': 1, 'they': 1, 'not': 1, 'judged': 1, 'by': 2, 'color': 1, 'their': 2, 'skin': 1, 'but': 1, 'content': 1, 'character': 1, 'today': 1, 'day,': 1, 'Alabama,': 1, 'vicious': 1, 'racists,': 1, 'governor': 1, 'having': 1, 'his': 1, 'lips': 1, 'dripping': 1, 'words': 1, 'interposition': 1, 'nullification': 1, 'right': 1, 'there': 1, 'Alabama': 1, 'black': 2, 'boys': 2, 'girls': 2, 'join': 1, 'hands': 1, 'white': 2, 'as': 1, 'sisters': 1, 'brothers': 1} 104\n",
      "{'of': 12, 'the': 11, 'a': 8, 'and': 7, 'I': 6, 'have': 6, 'dream': 6, 'that': 6, 'one': 6, 'will': 6, 'with': 6, 'day': 5, 'be': 5, 'its': 3, 'to': 3, 'little': 3, 'in': 3, 'nation': 2, 'live': 2, 'sons': 2, 'former': 2, 'able': 2, 'down': 2, 'state': 2, 'sweltering': 2, 'heat': 2, 'by': 2, 'their': 2, 'black': 2, 'boys': 2, 'girls': 2, 'white': 2, 'this': 1, 'rise': 1, 'up': 1, 'out': 1, 'true': 1, 'meaning': 1, 'creed': 1, 'We': 1, 'hold': 1, 'these': 1, 'truths': 1, 'self-evident': 1, 'all': 1, 'men': 1, 'are': 1, 'created': 1, 'equal': 1, 'on': 1, 'red': 1, 'hills': 1, 'Georgia': 1, 'slaves': 1, 'slave': 1, 'owners': 1, 'sit': 1, 'together': 1, 'at': 1, 'table': 1, 'brotherhood': 1, 'even': 1, 'Mississippi': 1, 'injustice': 1, 'oppression,': 1, 'transformed': 1, 'into': 1, 'an': 1, 'oasis': 1, 'freedom': 1, 'justice': 1, 'my': 1, 'four': 1, 'children': 1, 'where': 1, 'they': 1, 'not': 1, 'judged': 1, 'color': 1, 'skin': 1, 'but': 1, 'content': 1, 'character': 1, 'today': 1, 'day,': 1, 'Alabama,': 1, 'vicious': 1, 'racists,': 1, 'governor': 1, 'having': 1, 'his': 1, 'lips': 1, 'dripping': 1, 'words': 1, 'interposition': 1, 'nullification': 1, 'right': 1, 'there': 1, 'Alabama': 1, 'join': 1, 'hands': 1, 'as': 1, 'sisters': 1, 'brothers': 1}\n"
     ]
    }
   ],
   "source": [
    "dream_words = dream.split()    #default delimiter is space\n",
    "# print(dream_words)\n",
    "\n",
    "# 단어 갯수 세어 주는 함수! \n",
    "wordlist = {}\n",
    "for word in dream_words:\n",
    "    if word in wordlist:\n",
    "        wordlist[word] += 1\n",
    "    else:\n",
    "        wordlist[word] = 1\n",
    "        \n",
    "print(wordlist, len(wordlist))\n",
    "\n",
    "#내림차순으로\n",
    "swl_byvalue = {k: v for k, v in sorted(wordlist.items(), key=lambda i: i[1], reverse=True)}\n",
    "print(swl_byvalue)"
   ]
  },
  {
   "cell_type": "code",
   "execution_count": 5,
   "id": "890f3209-30b5-43ce-972d-d0d8a863391b",
   "metadata": {},
   "outputs": [
    {
     "name": "stdout",
     "output_type": "stream",
     "text": [
      "WORD            COUNT\n",
      "of              12\n",
      "the             11\n",
      "a               8\n",
      "and             7\n",
      "I               6\n",
      "have            6\n",
      "dream           6\n",
      "that            6\n",
      "one             6\n",
      "will            6\n",
      "with            6\n",
      "\n",
      "Number of unique words:  104\n"
     ]
    }
   ],
   "source": [
    "print(f'{\"WORD\":<16}COUNT')\n",
    "\n",
    "for word, count in swl_byvalue.items():\n",
    "    if count >= 6:\n",
    "        print(f'{word:<16}{count}')\n",
    "print('\\nNumber of unique words: ', len(wordlist))"
   ]
  },
  {
   "cell_type": "code",
   "execution_count": 6,
   "id": "3a5d5657-5a3a-4358-bd87-26669666505e",
   "metadata": {},
   "outputs": [
    {
     "name": "stdout",
     "output_type": "stream",
     "text": [
      "Counter({'of': 12, 'the': 11, 'a': 8, 'and': 7, 'I': 6, 'have': 6, 'dream': 6, 'that': 6, 'one': 6, 'will': 6, 'with': 6, 'day': 5, 'be': 5, 'its': 3, 'to': 3, 'little': 3, 'in': 3, 'nation': 2, 'live': 2, 'sons': 2, 'former': 2, 'able': 2, 'down': 2, 'state': 2, 'sweltering': 2, 'heat': 2, 'by': 2, 'their': 2, 'black': 2, 'boys': 2, 'girls': 2, 'white': 2, 'this': 1, 'rise': 1, 'up': 1, 'out': 1, 'true': 1, 'meaning': 1, 'creed': 1, 'We': 1, 'hold': 1, 'these': 1, 'truths': 1, 'self-evident': 1, 'all': 1, 'men': 1, 'are': 1, 'created': 1, 'equal': 1, 'on': 1, 'red': 1, 'hills': 1, 'Georgia': 1, 'slaves': 1, 'slave': 1, 'owners': 1, 'sit': 1, 'together': 1, 'at': 1, 'table': 1, 'brotherhood': 1, 'even': 1, 'Mississippi': 1, 'injustice': 1, 'oppression,': 1, 'transformed': 1, 'into': 1, 'an': 1, 'oasis': 1, 'freedom': 1, 'justice': 1, 'my': 1, 'four': 1, 'children': 1, 'where': 1, 'they': 1, 'not': 1, 'judged': 1, 'color': 1, 'skin': 1, 'but': 1, 'content': 1, 'character': 1, 'today': 1, 'day,': 1, 'Alabama,': 1, 'vicious': 1, 'racists,': 1, 'governor': 1, 'having': 1, 'his': 1, 'lips': 1, 'dripping': 1, 'words': 1, 'interposition': 1, 'nullification': 1, 'right': 1, 'there': 1, 'Alabama': 1, 'join': 1, 'hands': 1, 'as': 1, 'sisters': 1, 'brothers': 1})\n",
      "WORD            COUNT\n",
      "of              12\n",
      "the             11\n",
      "a               8\n",
      "and             7\n",
      "I               6\n",
      "have            6\n",
      "dream           6\n",
      "that            6\n",
      "one             6\n",
      "will            6\n",
      "with            6\n",
      "\n",
      "Number of unique words:  104\n"
     ]
    }
   ],
   "source": [
    "# Do the same with Counter in collections\n",
    "from collections import Counter\n",
    "\n",
    "wordlist1 = Counter(dream_words)\n",
    "print(wordlist1)\n",
    "sorted_wl = {k: v for k, v in sorted(wordlist1.items(), key=lambda i: i[1], reverse=True)}\n",
    "\n",
    "print(f'{\"WORD\":<16}COUNT')\n",
    "\n",
    "for word, count in sorted_wl.items():\n",
    "    if count >= 6:\n",
    "        print(f'{word:<16}{count}')\n",
    "print('\\nNumber of unique words: ', len(wordlist))"
   ]
  },
  {
   "cell_type": "markdown",
   "id": "ac7b5b69-9868-4436-b5b7-439705b93bd6",
   "metadata": {},
   "source": [
    "## 4. Sets: Creation and modification"
   ]
  },
  {
   "cell_type": "code",
   "execution_count": 10,
   "id": "8144549b-2094-4a3f-8f50-409d34a308b5",
   "metadata": {},
   "outputs": [
    {
     "name": "stdout",
     "output_type": "stream",
     "text": [
      "{'February', 'March', 'April', 'January', 'June', 'May'}\n"
     ]
    }
   ],
   "source": [
    "# no duplicates are allowed\n",
    "Months = {'January', 'February', 'February', 'March', 'April', 'May', 'June'}\n",
    "print(Months)"
   ]
  },
  {
   "cell_type": "code",
   "execution_count": 11,
   "id": "d704e4a2-9d8a-4931-b929-704895489976",
   "metadata": {},
   "outputs": [
    {
     "name": "stdout",
     "output_type": "stream",
     "text": [
      "{0, 1, 2, 3, 4, 5, 6, 7, 8, 9, 10, 11, 12, 13, 14}\n",
      "15\n",
      "True\n"
     ]
    }
   ],
   "source": [
    "# making a set with a built-in function set\n",
    "digits = set(list(range(10))+list(range(5,15)))\n",
    "print(digits)\n",
    "print(len(digits))   # size of a set\n",
    "print(10 in digits)  # checking a set element"
   ]
  },
  {
   "cell_type": "code",
   "execution_count": 12,
   "id": "46e47071-c855-460b-9576-3d40a944b969",
   "metadata": {},
   "outputs": [
    {
     "name": "stdout",
     "output_type": "stream",
     "text": [
      "{0, 1, 2, 3, 4, 5, 6, 7, 9, 10, 11, 12, 13, 14}\n"
     ]
    }
   ],
   "source": [
    "# removing an element in a set\n",
    "digits.remove(8)\n",
    "print(digits)"
   ]
  },
  {
   "cell_type": "code",
   "execution_count": 13,
   "id": "0f1de12a-1d70-48cf-ae64-a0b4e312faaf",
   "metadata": {},
   "outputs": [
    {
     "name": "stdout",
     "output_type": "stream",
     "text": [
      "set()\n"
     ]
    }
   ],
   "source": [
    "# removing all elements in a set\n",
    "digits.clear()\n",
    "print(digits)"
   ]
  },
  {
   "cell_type": "code",
   "execution_count": 15,
   "id": "f33eda2a-f0f5-46ed-911b-8628e7c1c01e",
   "metadata": {},
   "outputs": [
    {
     "name": "stdout",
     "output_type": "stream",
     "text": [
      "{0, 1, 2, 3, 4, 5, 6, 7, 8, 9}\n"
     ]
    }
   ],
   "source": [
    "# adding elements to a set\n",
    "digits.update(range(10))\n",
    "print(digits)"
   ]
  },
  {
   "cell_type": "markdown",
   "id": "71fab97f-0124-4b9a-81e6-46e66a90a3b9",
   "metadata": {},
   "source": [
    "## 5. Sets: Operations and comprehension"
   ]
  },
  {
   "cell_type": "code",
   "execution_count": 16,
   "id": "4d290f5d-e99f-4831-a44f-928848ba74b7",
   "metadata": {},
   "outputs": [
    {
     "name": "stdout",
     "output_type": "stream",
     "text": [
      "True\n",
      "False\n",
      "{1, 2, 3, 4, 5, 6, 7}\n",
      "{1, 2, 3}\n",
      "set()\n",
      "{4, 5, 6, 7}\n"
     ]
    }
   ],
   "source": [
    "# Comparisons\n",
    "print({1,2,3} <= {1,2,3,4,5,6,7})  # 부분집합이냐\n",
    "print({1,2,3} < {1,2,3})\n",
    "print({1,2,3} | {1,2,3,4,5,6,7})   # 합집합\n",
    "print({1,2,3} & {1,2,3,4,5,6,7})   # 교집합\n",
    "print({1,2,3} - {1,2,3,4,5,6,7})   # 차집합 --> 결과 공집합\n",
    "print({1,2,3,4,5,6,7} - {1,2,3})"
   ]
  },
  {
   "cell_type": "code",
   "execution_count": 17,
   "id": "a6663e79-d4b5-40ce-a01c-60e3740fd956",
   "metadata": {},
   "outputs": [
    {
     "name": "stdout",
     "output_type": "stream",
     "text": [
      "{1, 3, 5, 7, 9}\n"
     ]
    }
   ],
   "source": [
    "odds = {i for i in digits if i%2 != 0}\n",
    "print(odds)"
   ]
  },
  {
   "cell_type": "code",
   "execution_count": null,
   "id": "497ecf8c-ba16-420e-b0fd-be9892e664d2",
   "metadata": {},
   "outputs": [],
   "source": []
  }
 ],
 "metadata": {
  "kernelspec": {
   "display_name": "Python 3",
   "language": "python",
   "name": "python3"
  },
  "language_info": {
   "codemirror_mode": {
    "name": "ipython",
    "version": 3
   },
   "file_extension": ".py",
   "mimetype": "text/x-python",
   "name": "python",
   "nbconvert_exporter": "python",
   "pygments_lexer": "ipython3",
   "version": "3.8.8"
  }
 },
 "nbformat": 4,
 "nbformat_minor": 5
}
