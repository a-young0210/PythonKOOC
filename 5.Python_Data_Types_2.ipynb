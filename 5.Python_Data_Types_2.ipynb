{
 "cells": [
  {
   "cell_type": "markdown",
   "id": "200ab1b1-d4b1-4a9a-be50-e53f3d3c8605",
   "metadata": {},
   "source": [
    "# Python: Dictionaries and Sets"
   ]
  },
  {
   "cell_type": "markdown",
   "id": "f672c87b-7222-4d88-a820-82c369910449",
   "metadata": {},
   "source": [
    "- __Dictionaries__ are used for presenting and storing data as key-value pairs. Key-value pairs of dictionary is \n",
    "__mapping the immutable keys to their values__. An English dictionary is a case of mapping (keys) to\n",
    "their definions (values). In English dictionaries, words (key) are alphabetically ordered\n",
    "Python are not ordered because what is important is one to one mapping, not ordered\n",
    "- A set of data is a __unordered collection__ of data, which are __unique and immutable__. --> indexing에 기반한 slicing 불가\n",
    "- Dictionaries and sets are __iterables but slicing with index is not allowed__ \n",
    "__Indexing is possible for dictionaries but not possible for sets__."
   ]
  },
  {
   "cell_type": "markdown",
   "id": "254ba62d-2e26-4678-ae8b-488d2418ac0b",
   "metadata": {},
   "source": [
    "## 1. Dicionaries: Creating, updatingm and oprations"
   ]
  },
  {
   "cell_type": "markdown",
   "id": "987be6a0-93b3-4328-9c64-685243d5de0d",
   "metadata": {},
   "source": [
    "- __Keys must be unique (no overlapping elements) and immutable.__\n",
    "- However, keys can have the same value.\n",
    "- Dictionaries are often used in ML for providing values to variables."
   ]
  },
  {
   "cell_type": "code",
   "execution_count": 1,
   "id": "3e12061f-553c-4cae-8ffe-2a7edd8a2902",
   "metadata": {},
   "outputs": [
    {
     "name": "stdout",
     "output_type": "stream",
     "text": [
      "{'Korea': 'kr', 'Japan': 'jp', 'Taiwan': 'tw', 'Finland': 'fl'}\n",
      "4\n",
      "kr\n"
     ]
    }
   ],
   "source": [
    "# Making a dictionary with a comma separated paired list, {key: values, key:value, ...}\n",
    "countries = {'Korea':'kr', 'Japan':'jp', 'Taiwan': 'tw', 'Finland':'fl'}\n",
    "print(countries)            # printing the dictionary\n",
    "print(len(countries))       # counting the number of paired elements\n",
    "print(countries['Korea'])   # getting the value corresponding to a key  "
   ]
  },
  {
   "cell_type": "code",
   "execution_count": 2,
   "id": "3eb15882-f394-4bd2-be27-8919798f8660",
   "metadata": {},
   "outputs": [
    {
     "name": "stdout",
     "output_type": "stream",
     "text": [
      "False\n",
      "{'Korea': 82, 'Japan': 'jp', 'Taiwan': 'tw', 'Finland': 'fl'}\n",
      "{'Korea': 82, 'Japan': '81', 'Taiwan': 'tw', 'Finland': 'fl'}\n",
      "{'Korea': 82, 'Japan': '81', 'Taiwan': 'tw', 'Finland': 'fl', 'Canada': 'ca'}\n",
      "{'Korea': 82, 'Japan': '81', 'Taiwan': 'tw', 'Finland': 'fl', 'Canada': 'ca', 'China': 'cn'}\n",
      "{'Japan': '81', 'Taiwan': 'tw', 'Finland': 'fl', 'Canada': 'ca', 'China': 'cn'}\n"
     ]
    }
   ],
   "source": [
    "# Dictionary operations\n",
    "# in은 존재여부 확인할 때 사용\n",
    "print('korea' in countries)      # checking if Korea is in the dictionary\n",
    "countries['Korea'] = 82          # changing value of a key\n",
    "print(countries)\n",
    "countries.update(Japan = '81')   # changing value with update method\n",
    "print(countries)\n",
    "countries['Canada'] = 'ca'       # adding a paired element\n",
    "print(countries)\n",
    "# update는 없으면 추가해줌\n",
    "countries.update(China = 'cn')   # adding a pair with update method\n",
    "print(countries)\n",
    "del countries['Korea']           # deleting a paired element\n",
    "print(countries)"
   ]
  },
  {
   "cell_type": "code",
   "execution_count": 6,
   "id": "acd8fdb0-ee76-475f-97c9-2f71c1769ef8",
   "metadata": {},
   "outputs": [
    {
     "name": "stdout",
     "output_type": "stream",
     "text": [
      "None\n",
      "81\n"
     ]
    },
    {
     "ename": "KeyError",
     "evalue": "'Korea'",
     "output_type": "error",
     "traceback": [
      "\u001b[0;31m---------------------------------------------------------------------------\u001b[0m",
      "\u001b[0;31mKeyError\u001b[0m                                  Traceback (most recent call last)",
      "\u001b[0;32m<ipython-input-6-4b9218049dd7>\u001b[0m in \u001b[0;36m<module>\u001b[0;34m\u001b[0m\n\u001b[1;32m      4\u001b[0m \u001b[0mprint\u001b[0m\u001b[0;34m(\u001b[0m\u001b[0mcountries\u001b[0m\u001b[0;34m.\u001b[0m\u001b[0mget\u001b[0m\u001b[0;34m(\u001b[0m\u001b[0;34m'Japan'\u001b[0m\u001b[0;34m)\u001b[0m\u001b[0;34m)\u001b[0m\u001b[0;34m\u001b[0m\u001b[0;34m\u001b[0m\u001b[0m\n\u001b[1;32m      5\u001b[0m \u001b[0;34m\u001b[0m\u001b[0m\n\u001b[0;32m----> 6\u001b[0;31m \u001b[0mprint\u001b[0m\u001b[0;34m(\u001b[0m\u001b[0mcountries\u001b[0m\u001b[0;34m[\u001b[0m\u001b[0;34m'Korea'\u001b[0m\u001b[0;34m]\u001b[0m\u001b[0;34m)\u001b[0m  \u001b[0;31m# 이렇게 하면 에러가 뜸\u001b[0m\u001b[0;34m\u001b[0m\u001b[0;34m\u001b[0m\u001b[0m\n\u001b[0m",
      "\u001b[0;31mKeyError\u001b[0m: 'Korea'"
     ]
    }
   ],
   "source": [
    "# Dictionary operations\n",
    "# get을 이용하면 none 반환\n",
    "print(countries.get('Korea'))   # if non-exist, None is returned\n",
    "print(countries.get('Japan'))\n",
    "\n",
    "print(countries['Korea'])  # 이렇게 하면 에러가 뜸"
   ]
  },
  {
   "cell_type": "code",
   "execution_count": null,
   "id": "2e0a3412-9787-4179-b11b-0204cdf2def8",
   "metadata": {},
   "outputs": [],
   "source": []
  },
  {
   "cell_type": "markdown",
   "id": "21eda0ca-b58a-46ea-9d93-7c60b972a5a4",
   "metadata": {},
   "source": [
    "## 2. Dictionaries: Iterations and extractions"
   ]
  },
  {
   "cell_type": "code",
   "execution_count": 3,
   "id": "5429b05b-f8e6-403c-aa87-96bc82861d4f",
   "metadata": {},
   "outputs": [
    {
     "name": "stdout",
     "output_type": "stream",
     "text": [
      "The country cod of Korea is kr.\n",
      "The country cod of Japan is jp.\n",
      "The country cod of Taiwan is tw.\n",
      "The country cod of Finland is fl.\n"
     ]
    }
   ],
   "source": [
    "# Iterating elements ina. dictionary 1\n",
    "countries = {'Korea':'kr', 'Japan':'jp', 'Taiwan':'tw', 'Finland':'fl'}\n",
    "for country, code in countries.items():   #items method returns key and value\n",
    "    print(f'The country cod of {country} is {code}.')"
   ]
  },
  {
   "cell_type": "code",
   "execution_count": 2,
   "id": "d84f8497-aec1-4fc8-8402-6bcf63a460cc",
   "metadata": {},
   "outputs": [
    {
     "name": "stdout",
     "output_type": "stream",
     "text": [
      "Korea Japan Taiwan Finland \n",
      "kr jp tw fl "
     ]
    }
   ],
   "source": [
    "# Iterating elements ina. dictionary 2\n",
    "for country in countries.keys():\n",
    "    print(country, end=' ')\n",
    "print()\n",
    "for codes in countries.values():\n",
    "    print(codes, end=' ')"
   ]
  },
  {
   "cell_type": "code",
   "execution_count": 7,
   "id": "f58aade8-de34-4e08-b101-3d9996383bd4",
   "metadata": {},
   "outputs": [
    {
     "name": "stdout",
     "output_type": "stream",
     "text": [
      "['Korea', 'Japan', 'Taiwan', 'Finland']\n",
      "[82, 81, 886, 358]\n",
      "[('Korea', 82), ('Japan', 81), ('Taiwan', 886), ('Finland', 358)] ('Japan', 81)\n",
      "([('Korea', 82), ('Japan', 81), ('Taiwan', 886), ('Finland', 358)], [('Korea', 82), ('Japan', 81)])\n"
     ]
    }
   ],
   "source": [
    "# Extracting keys, values, and elements of dictionaries\n",
    "c_codes = {'Korea':82, 'Japan':81, 'Taiwan':886, 'Finland':358}\n",
    "print(list(c_codes.keys()))\n",
    "print(list(c_codes.values()))\n",
    "l_countries = list(c_codes.items())\n",
    "print(l_countries, l_countries[1])\n",
    "sliced_c = l_countries, l_countries[:2]\n",
    "print(sliced_c)"
   ]
  },
  {
   "cell_type": "markdown",
   "id": "e7bf1d10-77e8-4394-a13c-00440745c0ad",
   "metadata": {},
   "source": [
    "(Exercise) Printing the country name and code without using items() method?"
   ]
  },
  {
   "cell_type": "code",
   "execution_count": 10,
   "id": "751ba782-295d-48a0-9605-683e06d934a6",
   "metadata": {},
   "outputs": [
    {
     "name": "stdout",
     "output_type": "stream",
     "text": [
      "The country code of Korea is kr.\n",
      "The country code of Japan is jp.\n",
      "The country code of Taiwan is tw.\n",
      "The country code of Finland is fl.\n"
     ]
    }
   ],
   "source": [
    "for i, j in zip(countries.keys(), countries.values()):\n",
    "    print(f'The country code of {i} is {j}.')"
   ]
  },
  {
   "cell_type": "markdown",
   "id": "4b895bef-413b-4fa3-9d7d-2cdaa3a4addd",
   "metadata": {},
   "source": [
    "## 3.Dictionaries: Sorting and comprehension expressions"
   ]
  },
  {
   "cell_type": "code",
   "execution_count": 12,
   "id": "d908fa8f-1842-4389-a81b-d031de7a40b2",
   "metadata": {},
   "outputs": [
    {
     "name": "stdout",
     "output_type": "stream",
     "text": [
      "['Finland', 'Japan', 'Korea', 'Taiwan']\n",
      "['Finland', 'Japan', 'Korea', 'Taiwan']\n",
      "[81, 82, 358, 886]\n",
      "[('Finland', 358), ('Japan', 81), ('Korea', 82), ('Taiwan', 886)]\n"
     ]
    }
   ],
   "source": [
    "# Sorting dictionary itmes\n",
    "print(sorted(c_codes))   # key값이 돌려짐\n",
    "print(sorted(c_codes.keys()))\n",
    "print(sorted(c_codes.values()))\n",
    "print(sorted(c_codes.items()))"
   ]
  },
  {
   "cell_type": "code",
   "execution_count": 15,
   "id": "ad38bc3a-287d-477e-8193-4b25d8a372ed",
   "metadata": {},
   "outputs": [
    {
     "name": "stdout",
     "output_type": "stream",
     "text": [
      "[(81, 'Japan'), (82, 'Korea'), (358, 'Finland'), (886, 'Taiwan')]\n",
      "{'Japan': 27.666666666666668, 'Korea': 26.666666666666668}\n",
      "{'Japan': 81, 'Korea': 82, 'Finland': 358, 'Taiwan': 886}\n"
     ]
    }
   ],
   "source": [
    "# Dictionary comprehension: switching keys and values\n",
    "switched = {code: country for country, code in c_codes.items()}\n",
    "print(sorted(switched.items()))\n",
    "\n",
    "# Making a new dictionary with a dictionary\n",
    "temperature = {'Japan':[23, 34, 26], 'Korea':[22, 33, 25]}\n",
    "temp_mean = {k: sum(v)/len(v) for k, v in temperature.items()}\n",
    "print(temp_mean)\n",
    "\n",
    "s_value = {k: v for k, v in sorted(c_codes.items(), key=lambda country: country[1])}   # sorting을 items로 할 때 value 값으로 하고 싶어\n",
    "print(s_value)"
   ]
  },
  {
   "cell_type": "code",
   "execution_count": null,
   "id": "895c569b-f222-4835-8aad-2d4d1e9cdf1c",
   "metadata": {},
   "outputs": [],
   "source": [
    "# Tokenizing strings\n",
    "dream = \"\"\"I have a dream that one day this nation will rise up and live out the true meaning of its creed We hold these truths to be self-evident that all men are created equal\n",
    "I have a dream that one day on the red hills of Georgia the sons of former slaves and the sons of former slave owners will be able to sit down together at the table of brotherhood\n",
    "I have a dream that one day even the state of Mississippi a state sweltering with the heat of injustice sweltering with the heat of oppression, will be transformed into an oasis of freedom and justice\n",
    "I have a dream that my four little children will one day live in a nation where they will not be judged by the color of their skin but by the content of their character\n",
    "I have a dream today\n",
    "I have a dream that one day, down in Alabama, with its vicious racists, with its governor having his lips dripping with the words of interposition and nullification one day right there in Alabama little black boys and black girls will be able to join hands with little white boys and white girls as sisters and brothers\"\"\"\n"
   ]
  }
 ],
 "metadata": {
  "kernelspec": {
   "display_name": "Python 3",
   "language": "python",
   "name": "python3"
  },
  "language_info": {
   "codemirror_mode": {
    "name": "ipython",
    "version": 3
   },
   "file_extension": ".py",
   "mimetype": "text/x-python",
   "name": "python",
   "nbconvert_exporter": "python",
   "pygments_lexer": "ipython3",
   "version": "3.8.8"
  }
 },
 "nbformat": 4,
 "nbformat_minor": 5
}
