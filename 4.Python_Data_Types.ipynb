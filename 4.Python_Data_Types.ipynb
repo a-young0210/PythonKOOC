{
 "cells": [
  {
   "cell_type": "markdown",
   "id": "4b3e3bdd-f6b0-4a49-9e16-63a9effc457b",
   "metadata": {},
   "source": [
    "## Python: Lists and Tuples"
   ]
  },
  {
   "cell_type": "markdown",
   "id": "85c8729d-43e2-48cf-9c6b-2f6f49c98e95",
   "metadata": {},
   "source": [
    "- __Lists, tuples and strings are sequences__ (consecutive data) in Python Standard Libraries.\n",
    "- Arguments (elements) are consecutive and have __index starting from zero.__"
   ]
  },
  {
   "cell_type": "markdown",
   "id": "134f047c-3de3-47d0-b5d6-79770ef706e4",
   "metadata": {},
   "source": [
    "__1. Lists: concept, indexing, and slicing__"
   ]
  },
  {
   "cell_type": "markdown",
   "id": "c136d6bc-545c-47b7-93b5-ca28a3fbab34",
   "metadata": {},
   "source": [
    "- Lists __typically store homogeneous data__ in order.\n",
    "- However, they can stor __heterogeneous data and mutable (modifiable).__\n",
    "- #List는 변경가능 / Tuple은 변경 불가\n",
    "- Lists are denoted by square bracket [], in which data items (dlements) are put.\n",
    "- A list's index for elements starts __from zero.__"
   ]
  },
  {
   "cell_type": "code",
   "execution_count": 3,
   "id": "4313417b-bb58-40e7-baee-0fcd9cd67f9a",
   "metadata": {},
   "outputs": [
    {
     "name": "stdout",
     "output_type": "stream",
     "text": [
      "<class 'list'> [1, 2, 3, 4, 5, 6, 11, 'a', 'b']\n"
     ]
    }
   ],
   "source": [
    "# An example of list\n",
    "list1 = [1, 2, 3,4,5, 6, 11, 'a', 'b']\n",
    "print(type(list1), list1)"
   ]
  },
  {
   "cell_type": "code",
   "execution_count": 4,
   "id": "068b6023-ad83-4b3f-9ca9-6791a1f4e65b",
   "metadata": {},
   "outputs": [
    {
     "name": "stdout",
     "output_type": "stream",
     "text": [
      "2 a\n",
      "[3, 4, 5]\n",
      "[1, 2, 3, 4, 5, 6, 11]\n",
      "[5, 6, 11, 'a', 'b']\n",
      "b\n",
      "[6, 11, 'a', 'b']\n",
      "[4, 5, 6, 11, 'a', 'b']\n"
     ]
    }
   ],
   "source": [
    "# Access elements with indexes (slicing)\n",
    "print(list1[1], list1[7])\n",
    "print(list1[2:5])   # slicing\n",
    "print(list1[:7])\n",
    "print(list1[4:])\n",
    "print(list1[-1])   # slicing : negative index from the end\n",
    "print(list1[-4:])\n",
    "print(list1[1+2:])   # index addition is possible"
   ]
  },
  {
   "cell_type": "code",
   "execution_count": 5,
   "id": "3980be1c-a856-4ec0-8adb-d1fd0d123234",
   "metadata": {},
   "outputs": [
    {
     "data": {
      "text/plain": [
       "9"
      ]
     },
     "execution_count": 5,
     "metadata": {},
     "output_type": "execute_result"
    }
   ],
   "source": [
    "# finding the size of a list with len()\n",
    "len(list1)"
   ]
  },
  {
   "cell_type": "code",
   "execution_count": 6,
   "id": "12238e71-52b9-42ca-95c7-2ec1f5270faf",
   "metadata": {},
   "outputs": [
    {
     "name": "stdout",
     "output_type": "stream",
     "text": [
      "[1, 2, 3, 4, 5, 6, 'c', 'a', 'b']\n"
     ]
    }
   ],
   "source": [
    "# A list is mutalbe (modifiable)\n",
    "list1[6] = 'c'\n",
    "print(list1)\n",
    "#list1[9]     # trying to access an element not existing"
   ]
  },
  {
   "cell_type": "code",
   "execution_count": 7,
   "id": "4a0f89de-d5ed-46a4-bd44-288847b6b291",
   "metadata": {},
   "outputs": [
    {
     "name": "stdout",
     "output_type": "stream",
     "text": [
      "[11, 12, 13]\n"
     ]
    }
   ],
   "source": [
    "# Appending a list\n",
    "list2 = []           # An empty list is defined\n",
    "for item in range(11, 14, 1):\n",
    "#    list2 += [item]  # turn item into a list element\n",
    "   list2.append(item)\n",
    "print(list2)"
   ]
  },
  {
   "cell_type": "code",
   "execution_count": 8,
   "id": "158b9297-caa9-4472-9f99-0cf7fb20a92a",
   "metadata": {},
   "outputs": [
    {
     "name": "stdout",
     "output_type": "stream",
     "text": [
      "['P', 'y', 't', 'h', 'o', 'n', ' ', 'K', 'o', 'o', 'c'] 11\n"
     ]
    }
   ],
   "source": [
    "# Appending a string to a list\n",
    "list3 = []\n",
    "list3 += 'Python Kooc'\n",
    "print(list3, len(list3))"
   ]
  },
  {
   "cell_type": "code",
   "execution_count": 9,
   "id": "4ed7bb1f-9374-48bd-bcd5-77339907e539",
   "metadata": {},
   "outputs": [
    {
     "name": "stdout",
     "output_type": "stream",
     "text": [
      "['P', 'y', 't', 'h', 'o', 'n', ' ', 'K', 'o', 'o', 'c', 'M', 'o', 'o', 'c'] 15\n"
     ]
    }
   ],
   "source": [
    "# Appending a tuple to a list\n",
    "list3 += ('M', 'o', 'o', 'c')\n",
    "print(list3, len(list3))"
   ]
  },
  {
   "cell_type": "code",
   "execution_count": 10,
   "id": "ceaf75d4-dc7b-4f4f-b405-d85e806174a4",
   "metadata": {},
   "outputs": [
    {
     "name": "stdout",
     "output_type": "stream",
     "text": [
      "[1, 2, 3, 4, 5, 6, 'c', 'a', 'b', 11, 12, 13]\n"
     ]
    }
   ],
   "source": [
    "# Concatenating lists\n",
    "list12 = list1 + list2\n",
    "print(list12)     # concatenating two lists"
   ]
  },
  {
   "cell_type": "code",
   "execution_count": 11,
   "id": "389607a1-6ebf-42af-9501-195b9f6b6f61",
   "metadata": {},
   "outputs": [
    {
     "name": "stdout",
     "output_type": "stream",
     "text": [
      "(0, 1) (1, 2) (2, 3) (3, 4) (4, 5) (5, 6) (6, c) (7, a) (8, b) (9, 11) (10, 12) (11, 13) "
     ]
    }
   ],
   "source": [
    "# Obtaining index and elements paired\n",
    "for i in range(len(list12)):\n",
    "    print(f'({i}, {list12[i]})', end = ' ')"
   ]
  },
  {
   "cell_type": "markdown",
   "id": "1f881f01-9fe1-4bb8-be8a-5935e3758609",
   "metadata": {},
   "source": [
    "__2. Tuples__"
   ]
  },
  {
   "cell_type": "markdown",
   "id": "cbd26cf8-cb2d-4be2-b872-01e76c1d2138",
   "metadata": {},
   "source": [
    "- __Immmutable__ and typically store heterogeneous data.\n",
    "- So, __datasets__ are often stored as tuples.\n",
    "- Tuples are denoted by __parenthesis ()__, in which data are put."
   ]
  },
  {
   "cell_type": "code",
   "execution_count": 12,
   "id": "a8bfb439-5e05-4a6a-8929-d3695c076931",
   "metadata": {},
   "outputs": [
    {
     "name": "stdout",
     "output_type": "stream",
     "text": [
      "(10, 20, 30, 'John', 40, 50)\n"
     ]
    }
   ],
   "source": [
    "# An example of a tuple\n",
    "t1 = 10, 20, 30, 'John'   # A tuple does not require ( )\n",
    "t1 += (40, 50)            # adding a tuple\n",
    "print(t1)"
   ]
  },
  {
   "cell_type": "code",
   "execution_count": 13,
   "id": "b9b6e2c5-67c6-424d-84f2-00bf91f3a690",
   "metadata": {},
   "outputs": [
    {
     "name": "stdout",
     "output_type": "stream",
     "text": [
      "(1, 2, 3, 4)\n",
      "3\n",
      "(1, 2, 3)\n"
     ]
    }
   ],
   "source": [
    "# Tuple indexing and slicing\n",
    "t2 = tuple([1, 2, 3, 4])   # A tuple with a list in it.\n",
    "print(t2)\n",
    "print(t2[2])\n",
    "print(t2[:3])"
   ]
  },
  {
   "cell_type": "code",
   "execution_count": 14,
   "id": "5719bdf3-68e7-4b66-b72b-cbdc6351e9b7",
   "metadata": {},
   "outputs": [
    {
     "name": "stdout",
     "output_type": "stream",
     "text": [
      "('Kim', 'Park', 'Kwon', [80, 90, 100]) 4 [80, 90, 100]\n",
      "('Kim', 'Park', 'Kwon', [80, 85, 100])\n"
     ]
    }
   ],
   "source": [
    "# a tuple with strings and a list of grades\n",
    "# a list is mutalbe\n",
    "t3 = 'Kim', 'Park', 'Kwon', [80, 90, 100]  #list 전체가 element\n",
    "print(t3, len(t3), t3[3])\n",
    "# tuple 내 list는 mutable!!\n",
    "t3[3][1] = 85\n",
    "print(t3)"
   ]
  },
  {
   "cell_type": "markdown",
   "id": "524bf648-30d6-4175-a6db-cc03bda39e38",
   "metadata": {},
   "source": [
    "__3. Unpacking sequences: any sequence can be unpacked__"
   ]
  },
  {
   "cell_type": "markdown",
   "id": "ed86e858-9a55-4a33-bf56-d7fbef77a56f",
   "metadata": {},
   "source": [
    "- 머신러닝이나 딥러닝에서 데이터셋을 가져와서 training data와 test data로 나눌 때, training data를 label와 data로 나눌 때 가장 많이 사용"
   ]
  },
  {
   "cell_type": "code",
   "execution_count": 15,
   "id": "3e8eee4e-0477-4911-b908-003abe0c1e0d",
   "metadata": {},
   "outputs": [
    {
     "name": "stdout",
     "output_type": "stream",
     "text": [
      "2\n",
      "('Kim', 'Park', 'Kwon') [80, 90, 100] <class 'tuple'> <class 'list'>\n"
     ]
    }
   ],
   "source": [
    "# unpacking tuples\n",
    "t4 =(('Kim','Park', 'Kwon'), [80, 90, 100])   # tuple 안에 tuple\n",
    "print(len(t4))\n",
    "last_name, grades = t4   # two objects are created with names\n",
    "print(last_name, grades, type(last_name), type(grades))"
   ]
  },
  {
   "cell_type": "code",
   "execution_count": 16,
   "id": "5262a618-a898-4470-bb6a-3026ab7afda8",
   "metadata": {},
   "outputs": [
    {
     "name": "stdout",
     "output_type": "stream",
     "text": [
      "80 90 100\n"
     ]
    }
   ],
   "source": [
    "# unpacking a list\n",
    "# python 내 모든 list는 unpacking 가능\n",
    "grade1, grade2, grade3 = grades\n",
    "print(grade1, grade2, grade3)"
   ]
  },
  {
   "cell_type": "code",
   "execution_count": 17,
   "id": "b4b877eb-766a-473c-8891-e64fdbb50f19",
   "metadata": {},
   "outputs": [
    {
     "name": "stdout",
     "output_type": "stream",
     "text": [
      "W I F I\n"
     ]
    }
   ],
   "source": [
    "# unpacking a string\n",
    "first, second, third, fourth = 'WIFI'\n",
    "print(first, second, third, fourth)"
   ]
  },
  {
   "cell_type": "markdown",
   "id": "1333b887-3d07-4ae0-b908-8af7db0572ba",
   "metadata": {},
   "source": [
    "__4. Enumerate: A built-in function__"
   ]
  },
  {
   "cell_type": "markdown",
   "id": "6eb9c8d7-40b9-4b78-bd4f-babc66292e63",
   "metadata": {},
   "source": [
    "- for creating a list or tuple with index and element value."
   ]
  },
  {
   "cell_type": "code",
   "execution_count": 18,
   "id": "91e3f387-1ff3-422d-bb9c-726fab373f4c",
   "metadata": {},
   "outputs": [
    {
     "name": "stdout",
     "output_type": "stream",
     "text": [
      "[(0, 'red'), (1, 'yellow'), (2, 'blue'), (3, 'black'), (4, 'white')]\n",
      "((0, 'red'), (1, 'yellow'), (2, 'blue'), (3, 'black'), (4, 'white'))\n",
      "0: red\n",
      "1: yellow\n",
      "2: blue\n",
      "3: black\n",
      "4: white\n"
     ]
    }
   ],
   "source": [
    "colors = ['red', 'yellow', 'blue', 'black', 'white']\n",
    "# enumerate는 for문을 사용하지 않고 index와 값 출력 가능\n",
    "print(list(enumerate(colors)))\n",
    "print(tuple(enumerate(colors)))\n",
    "\n",
    "# printing index and value of the list\n",
    "for index, color in enumerate(colors):\n",
    "    print(f'{index}: {color}')"
   ]
  },
  {
   "cell_type": "code",
   "execution_count": 27,
   "id": "2a2007f2-cb84-4920-8cea-137829c44d46",
   "metadata": {},
   "outputs": [
    {
     "name": "stdout",
     "output_type": "stream",
     "text": [
      "Creating a bar chart:\n",
      "Index   Value   Bar\n",
      "    0      19   *******************\n",
      "    1       8   ********\n",
      "    2      15   ***************\n",
      "    3       7   *******\n",
      "    4      11   ***********\n"
     ]
    }
   ],
   "source": [
    "# Creating a simple bar chart with enumerate\n",
    "bar = [19, 8, 15, 7, 11]\n",
    "print('Creating a bar chart:')\n",
    "print(f'Index{\"Value\":>8}   Bar')\n",
    "for index, value in enumerate(bar):\n",
    "    print(f'{index:>5}{value:>8}   {\"*\"*value}')"
   ]
  },
  {
   "cell_type": "markdown",
   "id": "32aa3af5-1cfe-497c-8502-bd808940e357",
   "metadata": {},
   "source": [
    "__5. Slicing with steps and modifying lists with slicing__"
   ]
  },
  {
   "cell_type": "code",
   "execution_count": 20,
   "id": "0524b39b-9653-470c-9610-cd18989616bc",
   "metadata": {},
   "outputs": [
    {
     "name": "stdout",
     "output_type": "stream",
     "text": [
      "[1, 2, 3, 4, 5, 6, 'c', 'a', 'b', 11, 12, 13] 12\n",
      "[1, 2, 3, 4, 5, 6, 'c', 'a', 'b', 11, 12, 13]\n",
      "[1, 3, 5, 'c', 'b', 12]\n"
     ]
    }
   ],
   "source": [
    "print(list12, len(list12))\n",
    "print(list12[:])   # no starting and ending indexes\n",
    "print(list12[::2]) # even index elements"
   ]
  },
  {
   "cell_type": "code",
   "execution_count": 21,
   "id": "37301af9-a244-44fe-9976-7822593b46e9",
   "metadata": {},
   "outputs": [
    {
     "name": "stdout",
     "output_type": "stream",
     "text": [
      "['one', 'two', 'three', 4, 5, 6, 'c', 'a', 'b', 11, 12, 13]\n",
      "[4, 5, 6, 'c', 'a', 'b', 11, 12, 13]\n"
     ]
    }
   ],
   "source": [
    "list12[0:3] = ['one', 'two', 'three']\n",
    "print(list12)\n",
    "list12[0:3] = []\n",
    "print(list12)"
   ]
  },
  {
   "cell_type": "markdown",
   "id": "d75b74b0-fd75-4114-9aaf-de0ae5c867d2",
   "metadata": {},
   "source": [
    "__6. Deleting elements and lists__"
   ]
  },
  {
   "cell_type": "code",
   "execution_count": 22,
   "id": "22718044-86a4-448a-b69e-c4aa0be64294",
   "metadata": {},
   "outputs": [
    {
     "name": "stdout",
     "output_type": "stream",
     "text": [
      "[4, 5, 6, 'c', 'a', 'b', 11, 12]\n",
      "[5, 'c', 'b', 12]\n",
      "[]\n"
     ]
    }
   ],
   "source": [
    "# Deleting elements\n",
    "del list12[-1]\n",
    "print(list12)\n",
    "del list12[::2]\n",
    "print(list12)\n",
    "del list12[:]\n",
    "print(list12)"
   ]
  },
  {
   "cell_type": "code",
   "execution_count": 28,
   "id": "c081d1a1-7c47-4573-8ab6-5c5721d131c5",
   "metadata": {},
   "outputs": [
    {
     "name": "stdout",
     "output_type": "stream",
     "text": [
      "[19, 8, 15, 7, 11]\n"
     ]
    },
    {
     "ename": "NameError",
     "evalue": "name 'bar' is not defined",
     "output_type": "error",
     "traceback": [
      "\u001b[0;31m---------------------------------------------------------------------------\u001b[0m",
      "\u001b[0;31mNameError\u001b[0m                                 Traceback (most recent call last)",
      "\u001b[0;32m<ipython-input-28-35c64741725d>\u001b[0m in \u001b[0;36m<module>\u001b[0;34m\u001b[0m\n\u001b[1;32m      2\u001b[0m \u001b[0mprint\u001b[0m\u001b[0;34m(\u001b[0m\u001b[0mbar\u001b[0m\u001b[0;34m)\u001b[0m\u001b[0;34m\u001b[0m\u001b[0;34m\u001b[0m\u001b[0m\n\u001b[1;32m      3\u001b[0m \u001b[0;32mdel\u001b[0m \u001b[0mbar\u001b[0m\u001b[0;34m\u001b[0m\u001b[0;34m\u001b[0m\u001b[0m\n\u001b[0;32m----> 4\u001b[0;31m \u001b[0mprint\u001b[0m\u001b[0;34m(\u001b[0m\u001b[0mbar\u001b[0m\u001b[0;34m)\u001b[0m   \u001b[0;31m#없는 bar를 print 하라고 하니까 오류 남\u001b[0m\u001b[0;34m\u001b[0m\u001b[0;34m\u001b[0m\u001b[0m\n\u001b[0m",
      "\u001b[0;31mNameError\u001b[0m: name 'bar' is not defined"
     ]
    }
   ],
   "source": [
    "# Deleting a variable\n",
    "print(bar)\n",
    "del bar\n",
    "print(bar)   #없는 bar를 print 하라고 하니까 오류 남"
   ]
  },
  {
   "cell_type": "markdown",
   "id": "b48b1897-b0b9-4910-b718-da09dec978a5",
   "metadata": {},
   "source": [
    "__7. Sorting lists with sorting method__"
   ]
  },
  {
   "cell_type": "code",
   "execution_count": 29,
   "id": "8edec67d-1f35-4a96-af6c-7e13b6d42a15",
   "metadata": {},
   "outputs": [
    {
     "data": {
      "text/plain": [
       "[1, 2, 3, 4, 5, 6, 7, 8, 9, 11, 15]"
      ]
     },
     "execution_count": 29,
     "metadata": {},
     "output_type": "execute_result"
    }
   ],
   "source": [
    "numbers = [7, 2, 5, 4, 3, 6, 1, 9, 8,15, 11]\n",
    "numbers.sort()   #element location are modified\n",
    "numbers"
   ]
  },
  {
   "cell_type": "code",
   "execution_count": 31,
   "id": "9871c698-aa30-474b-8067-4d7fc17d4e46",
   "metadata": {},
   "outputs": [
    {
     "name": "stdout",
     "output_type": "stream",
     "text": [
      "[15, 11, 9, 8, 7, 6, 5, 4, 3, 2, 1]\n",
      "[1, 2, 3, 4, 5, 6, 7, 8, 9, 11, 15]\n"
     ]
    }
   ],
   "source": [
    "numbers = [7, 2, 5, 4, 3, 6, 1, 9, 8,15, 11]\n",
    "numbers.sort(reverse = True)\n",
    "print(numbers)\n",
    "# element의 크기가 아닌 index를 뒤바꾸는 독립적인 function\n",
    "numbers.reverse()   # reversing the order of the list\n",
    "print(numbers)"
   ]
  },
  {
   "cell_type": "code",
   "execution_count": 51,
   "id": "57f18da4-5222-4728-89e6-1cd3e26b4c5c",
   "metadata": {},
   "outputs": [
    {
     "name": "stdout",
     "output_type": "stream",
     "text": [
      "['J', 'I', 'love', 'you,', 'and', 'do', 'you', 'love', 'me?'] <class 'list'>\n",
      "['J', 'I', 'do', 'and', 'you', 'me?', 'love', 'you,', 'love'] <class 'list'>\n",
      "['I', 'J', 'and', 'do', 'love', 'love', 'me?', 'you', 'you,']\n"
     ]
    }
   ],
   "source": [
    "# word by word parsing with split() method\n",
    "a_string = 'J I love you, and do you love me?'\n",
    "# 단어 별로 나눠서 element로\n",
    "a_string = a_string.split()\n",
    "print(a_string, type(a_string))\n",
    "a_string.sort(key=len)        # sorted by length and ordered as a word appears\n",
    "print(a_string, type(a_string))\n",
    "b_string = sorted(a_string)  # alphabetical order and length  대문자가 먼저!\n",
    "print(b_string)"
   ]
  },
  {
   "cell_type": "code",
   "execution_count": 37,
   "id": "bb4c227f-000a-48c9-ad50-a827e848ff11",
   "metadata": {},
   "outputs": [
    {
     "name": "stdout",
     "output_type": "stream",
     "text": [
      "[7, 2, 5, 4, 3, 6, 1, 9, 8, 15, 11]\n",
      "[1, 2, 3, 4, 5, 6, 7, 8, 9, 11, 15]\n",
      "[11, 15, 8, 9, 1, 6, 3, 4, 5, 2, 7]\n",
      "[7, 2, 5, 4, 3, 6, 1, 9, 8, 15, 11]\n"
     ]
    }
   ],
   "source": [
    "x = [7, 2, 5, 4, 3, 6, 1, 9, 8,15, 11]\n",
    "y = sorted(x)\n",
    "z = reversed(x)   # order of elements is reversed\n",
    "print(x)\n",
    "print(y)\n",
    "print(list(z))\n",
    "print(x)"
   ]
  },
  {
   "cell_type": "markdown",
   "id": "51519187-4762-4474-97b6-c7cb8fd6d837",
   "metadata": {},
   "source": [
    "__8. Searching elements and useful list methods__"
   ]
  },
  {
   "cell_type": "code",
   "execution_count": 39,
   "id": "f6f3f1f0-b992-41b8-a9d4-44e9415f9018",
   "metadata": {},
   "outputs": [
    {
     "name": "stdout",
     "output_type": "stream",
     "text": [
      "4\n",
      "False\n",
      "True\n",
      "False\n"
     ]
    }
   ],
   "source": [
    "# Operator in and not in\n",
    "print(x.index(3))\n",
    "# boolean으로 존재 여부 확인 가능\n",
    "print(12 in x)\n",
    "print(12 not in x)\n",
    "print('Love' in a_string)"
   ]
  },
  {
   "cell_type": "code",
   "execution_count": 40,
   "id": "bf929de2-58fb-4dda-a358-7b8d531b74da",
   "metadata": {},
   "outputs": [
    {
     "name": "stdout",
     "output_type": "stream",
     "text": [
      "['J', 'I', 'do', 'and', 'you', 'me?', 'love', 'you,', 'love']\n",
      "['J', 'I', 'do', 'him', 'and', 'you', 'me?', 'love', 'you,', 'love']\n"
     ]
    }
   ],
   "source": [
    "# adding and deleting elements by designoting elements\n",
    "print(a_string)\n",
    "a_string.insert(3, 'him')\n",
    "print(a_string)"
   ]
  },
  {
   "cell_type": "code",
   "execution_count": 41,
   "id": "07898805-351e-44ae-93df-1e50517a281c",
   "metadata": {},
   "outputs": [
    {
     "name": "stdout",
     "output_type": "stream",
     "text": [
      "['J', 'I', 'do', 'him', 'and', 'you', 'me?', 'love', 'you,', 'love', 'hate']\n",
      "['J', 'I', 'do', 'and', 'you', 'me?', 'love', 'you,', 'love', 'hate']\n"
     ]
    }
   ],
   "source": [
    "a_string.append('hate')   # adding an element to the end of list\n",
    "print(a_string)\n",
    "a_string.remove('him')   # removing the first element from a list\n",
    "print(a_string)"
   ]
  },
  {
   "cell_type": "code",
   "execution_count": 43,
   "id": "bd912db1-3900-45f3-8fb0-cce1b5427d17",
   "metadata": {},
   "outputs": [
    {
     "name": "stdout",
     "output_type": "stream",
     "text": [
      "['J', 'I', 'do', 'and', 'you', 'me?', 'love', 'you,', 'love', 'hate', 'I', 'and']\n",
      "['J', 'I', 'do', 'and', 'you', 'me?', 'love', 'you,', 'love', 'hate', 'I', 'and']\n"
     ]
    }
   ],
   "source": [
    "# What if you want to add more than one elements to a list?\n",
    "print(a_string + ['I', 'and'])\n",
    "a_string.extend(['I', 'and'])\n",
    "print(a_string)"
   ]
  },
  {
   "cell_type": "code",
   "execution_count": 44,
   "id": "442be108-e986-4ccf-b7b4-3f60c52c644f",
   "metadata": {},
   "outputs": [
    {
     "name": "stdout",
     "output_type": "stream",
     "text": [
      "[]\n"
     ]
    }
   ],
   "source": [
    "# Emptying list\n",
    "a_string.clear()   # or a_string[:] = [] or del a_string[:]\n",
    "print(a_string)"
   ]
  },
  {
   "cell_type": "code",
   "execution_count": 45,
   "id": "d043b76c-cea4-44fb-b7eb-1f2ece1a9414",
   "metadata": {},
   "outputs": [
    {
     "name": "stdout",
     "output_type": "stream",
     "text": [
      "[7, 2, 5, 4, 3, 6, 1, 9, 8, 15, 11]\n",
      "[7, 2, 5, 4, 3, 6, 1, 9, 8, 15, 11]\n",
      "[7, 2, 5, 4, 3, 6, 1, 9, 8, 15, 11]\n"
     ]
    }
   ],
   "source": [
    "# Copying a list\n",
    "print(x)\n",
    "x_copied = x.copy()  # x_copied = x[:]\n",
    "print(x_copied)\n",
    "print(x.copy())"
   ]
  },
  {
   "cell_type": "markdown",
   "id": "05bbd2e5-c0ea-4a8b-bcc0-0daa10097159",
   "metadata": {},
   "source": [
    "__9. List comprehensions__"
   ]
  },
  {
   "cell_type": "markdown",
   "id": "b5531efc-3a0a-4603-8a6a-d6d6e82cfed2",
   "metadata": {},
   "source": [
    "- 빈 list 속에 element를 생성하기 위한 식을 function을 이용해 넣음"
   ]
  },
  {
   "cell_type": "code",
   "execution_count": 46,
   "id": "db3e11f1-8753-4283-b01b-759a66f5b1a7",
   "metadata": {},
   "outputs": [
    {
     "name": "stdout",
     "output_type": "stream",
     "text": [
      "[0, 2, 4, 6, 8]\n"
     ]
    }
   ],
   "source": [
    "list_range = list(range(0, 10, 2))   # This is what we learned.\n",
    "print(list_range)"
   ]
  },
  {
   "cell_type": "code",
   "execution_count": 47,
   "id": "fd2a10a2-0e1d-4530-9d42-a0d3c3e1af57",
   "metadata": {},
   "outputs": [
    {
     "name": "stdout",
     "output_type": "stream",
     "text": [
      "[0, 2, 4, 6, 8]\n",
      "[1, 3, 5, 7, 9]\n"
     ]
    }
   ],
   "source": [
    "list_com = [i for i in range(0, 10, 2)]\n",
    "print(list_com)\n",
    "list_con = [i for i in range(0, 10) if i % 2 != 0]\n",
    "print(list_con)"
   ]
  },
  {
   "cell_type": "code",
   "execution_count": 52,
   "id": "d4075196-b93c-446c-8c15-57e190eb9c51",
   "metadata": {},
   "outputs": [
    {
     "name": "stdout",
     "output_type": "stream",
     "text": [
      "[0, 4, 16, 36, 64]\n",
      "['J', 'I', 'DO', 'AND', 'YOU', 'ME?', 'LOVE', 'YOU,', 'LOVE']\n"
     ]
    }
   ],
   "source": [
    "# ** --> 제곱\n",
    "list_op = [i**2 for i in range(0, 10, 2)]\n",
    "print(list_op)\n",
    "list_up = [i.upper() for i in a_string]\n",
    "print(list_up)"
   ]
  },
  {
   "cell_type": "code",
   "execution_count": 53,
   "id": "6b442f0d-06f9-4553-945b-2237e95ba2be",
   "metadata": {},
   "outputs": [
    {
     "name": "stdout",
     "output_type": "stream",
     "text": [
      "<generator object <genexpr> at 0x7fc11e395510>\n",
      "[4, 8, 20, 40, 68]\n"
     ]
    }
   ],
   "source": [
    "# Generator expression: list is not created, Only generator object is made\n",
    "# ()로 되어 있으니 틀만! 생성자일 뿐임\n",
    "list_gen = (i**2 for i in range(10) if i % 2 == 0)   # in parenthesis!\n",
    "print(list_gen)\n",
    "list_gen1 = [i+4 for i in list_gen]   # instantition\n",
    "print(list_gen1)"
   ]
  },
  {
   "cell_type": "markdown",
   "id": "dd0bee56-f664-487a-8885-51d8ce0ac8bb",
   "metadata": {},
   "source": [
    "__10. lambda expression, map, and zip function__"
   ]
  },
  {
   "cell_type": "code",
   "execution_count": 1,
   "id": "abd1ce73-810d-4c74-8ddb-d813d2a02018",
   "metadata": {},
   "outputs": [
    {
     "name": "stdout",
     "output_type": "stream",
     "text": [
      "[0, 1, 2, 3, 4, 5, 6, 7, 8, 9, 10, 11, 12, 13, 14, 15, 16, 17, 18, 19, 20, 21, 22, 23, 24]\n"
     ]
    }
   ],
   "source": [
    "list3 = list(range(0, 25))\n",
    "print(list3)\n",
    "\n",
    "def is_multiple3(x):\n",
    "    \"\"\"Return True if x is a multiple of 3\"\"\"\n",
    "    return x % 3 == 0"
   ]
  },
  {
   "cell_type": "code",
   "execution_count": 4,
   "id": "773e8eb6-d53d-4ae3-a45e-07e457eadb31",
   "metadata": {},
   "outputs": [
    {
     "data": {
      "text/plain": [
       "[0, 3, 6, 9, 12, 15, 18, 21, 24]"
      ]
     },
     "execution_count": 4,
     "metadata": {},
     "output_type": "execute_result"
    }
   ],
   "source": [
    "# A built-in function filter. Filter is also generator.\n",
    "# filter is higher-order function taking a function as argument.\n",
    "# filter takes a function with one argument and returns True when condition is met\n",
    "list(filter(is_multiple3, list3))\n",
    "\n",
    "#filter는 생성자라 이렇게만 하면 생성 안 됨!\n",
    "#filter(is_multiple3, list3)"
   ]
  },
  {
   "cell_type": "code",
   "execution_count": 5,
   "id": "60c0069c-82d8-49f5-b4ca-08fca206c4b5",
   "metadata": {},
   "outputs": [
    {
     "data": {
      "text/plain": [
       "[0, 3, 6, 9, 12, 15, 18, 21, 24]"
      ]
     },
     "execution_count": 5,
     "metadata": {},
     "output_type": "execute_result"
    }
   ],
   "source": [
    "# Lambda function: anonymos function, a function without a name\n",
    "list4 = list(filter(lambda x: x % 3 == 0, list3))\n",
    "list4"
   ]
  },
  {
   "cell_type": "code",
   "execution_count": 6,
   "id": "c69eb205-4a76-4808-9b01-5e30203157d0",
   "metadata": {},
   "outputs": [
    {
     "name": "stdout",
     "output_type": "stream",
     "text": [
      "[0, 9, 36, 81, 144, 225, 324, 441, 576]\n",
      "[0, 9, 36, 81, 144, 225, 324, 441, 576]\n"
     ]
    }
   ],
   "source": [
    "# map: mapping a new value to an existing value, a generator(lazy evaluation)\n",
    "print(list(map(lambda x: x**2, list4)))\n",
    "print([i**2 for i in list4])"
   ]
  },
  {
   "cell_type": "code",
   "execution_count": 7,
   "id": "2ca54fa7-03ba-4e10-8a91-3ef881fd3b0e",
   "metadata": {},
   "outputs": [
    {
     "data": {
      "text/plain": [
       "[0, 9, 36, 81, 144, 225, 324, 441, 576]"
      ]
     },
     "execution_count": 7,
     "metadata": {},
     "output_type": "execute_result"
    }
   ],
   "source": [
    "# combining filter and map\n",
    "list(map(lambda x: x**2, filter(lambda x: x % 3 == 0, list3)))"
   ]
  },
  {
   "cell_type": "code",
   "execution_count": 8,
   "id": "da5659a1-4b2c-4cc0-b1a1-bf77e46f5759",
   "metadata": {},
   "outputs": [
    {
     "data": {
      "text/plain": [
       "[0, 9, 36, 81, 144, 225, 324, 441, 576]"
      ]
     },
     "execution_count": 8,
     "metadata": {},
     "output_type": "execute_result"
    }
   ],
   "source": [
    "# An alternative way\n",
    "[x**2 for x in list3 if x % 3 == 0]"
   ]
  },
  {
   "cell_type": "code",
   "execution_count": 12,
   "id": "6e491379-0345-4884-be06-3d3181cff18c",
   "metadata": {},
   "outputs": [
    {
     "name": "stdout",
     "output_type": "stream",
     "text": [
      "['Mini', 'Pony', 'Excel', 'Sonata', 'Santafe', 'elantra', 'Grandeur']\n",
      "['Excel', 'Grandeur', 'Mini', 'Pony', 'Santafe', 'Sonata', 'elantra']\n",
      "Excel elantra\n"
     ]
    },
    {
     "data": {
      "text/plain": [
       "'Sonata'"
      ]
     },
     "execution_count": 12,
     "metadata": {},
     "output_type": "execute_result"
    }
   ],
   "source": [
    "# key: ought to be a one parameter function and returns a value.\n",
    "car = ['Santafe', 'Mini', 'Pony', 'Grandeur', 'Sonata', 'Excel', 'elantra']\n",
    "car.sort(key=len)   # ordered by Length and the order of element in the lit\n",
    "print(car)\n",
    "print(sorted(car))\n",
    "#min, max는 아스키코드 값으로 \n",
    "print(min(car), max(car))\n",
    "# 하나의 값만 적용 가능\n",
    "# 소문자로 모두 바꿔서 max값 구하기\n",
    "max(car, key=lambda i: i.lower())"
   ]
  },
  {
   "cell_type": "code",
   "execution_count": 14,
   "id": "d8eb0525-812c-42c1-8ff2-8ab2cbd6a113",
   "metadata": {},
   "outputs": [
    {
     "name": "stdout",
     "output_type": "stream",
     "text": [
      "Ryu: 7\n",
      "Son: 20\n",
      "Park: 15\n",
      "Kwon: 7\n"
     ]
    }
   ],
   "source": [
    "# zip: handles multiple iterables concurrently\n",
    "players = ['Ryu', 'Son', 'Park', 'Kwon']; goals = [7, 20, 15, 7]\n",
    "for last_name, goal in zip(players, goals):\n",
    "    print(f'{last_name}: {goal}')"
   ]
  },
  {
   "cell_type": "markdown",
   "id": "5c869cf3-c2cf-40ef-9e96-d38015b31def",
   "metadata": {},
   "source": [
    "__11. Two and multi dimensional lists__"
   ]
  },
  {
   "cell_type": "code",
   "execution_count": 17,
   "id": "eac17f8b-21aa-490e-9e34-3fae203048a3",
   "metadata": {},
   "outputs": [
    {
     "name": "stdout",
     "output_type": "stream",
     "text": [
      "[[1, 2, 3, 4], [5, 6, 7, 8], [9, 10, 11, 12]]\n",
      "1 2 3 4 \n",
      "5 6 7 8 \n",
      "9 10 11 12 \n"
     ]
    }
   ],
   "source": [
    "# Two dimensional list index: index_name[i][j], where i is row index, j is column index.\n",
    "\n",
    "a = [[1,2,3,4],[5,6,7,8],[9,10,11,12]]   # two dimensional matrix with three rows anad four column\n",
    "print(a)\n",
    "# for문 속에 for문 => Nasted for문\n",
    "for row in a:\n",
    "    for column in row:\n",
    "        print(column, end=\" \")\n",
    "    print()   # Waht role is this playing? --> 줄바꿈"
   ]
  },
  {
   "cell_type": "code",
   "execution_count": null,
   "id": "9e0bd1e6-02d4-442d-a4a8-64536ab09047",
   "metadata": {},
   "outputs": [],
   "source": []
  }
 ],
 "metadata": {
  "kernelspec": {
   "display_name": "Python 3",
   "language": "python",
   "name": "python3"
  },
  "language_info": {
   "codemirror_mode": {
    "name": "ipython",
    "version": 3
   },
   "file_extension": ".py",
   "mimetype": "text/x-python",
   "name": "python",
   "nbconvert_exporter": "python",
   "pygments_lexer": "ipython3",
   "version": "3.8.8"
  }
 },
 "nbformat": 4,
 "nbformat_minor": 5
}
