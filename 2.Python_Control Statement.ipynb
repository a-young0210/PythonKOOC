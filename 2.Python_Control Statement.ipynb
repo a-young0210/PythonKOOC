{
 "cells": [
  {
   "cell_type": "markdown",
   "id": "dfa6b119-695c-4847-b02c-e0978914b92f",
   "metadata": {},
   "source": [
    "## Python: Control Statements"
   ]
  },
  {
   "cell_type": "markdown",
   "id": "11584e21-b9b7-4f99-88a2-589a5ce2ed9f",
   "metadata": {},
   "source": [
    "- Control statement: if...elif...else, while, for, break and continue\n",
    "- Additionally, we learn formatted strings, augmented assignments"
   ]
  },
  {
   "cell_type": "markdown",
   "id": "be818dd1-173b-446a-b04f-7f6394505d8d",
   "metadata": {},
   "source": [
    "__1. if...elif...else__"
   ]
  },
  {
   "cell_type": "code",
   "execution_count": 2,
   "id": "23cc0702-1275-490d-b7e1-c6f83a163036",
   "metadata": {},
   "outputs": [
    {
     "name": "stdin",
     "output_type": "stream",
     "text": [
      "Type your weight 90\n"
     ]
    },
    {
     "name": "stdout",
     "output_type": "stream",
     "text": [
      "fat! Exercies!\n"
     ]
    }
   ],
   "source": [
    "# Classifying weight categories\n",
    "weight = int(input('Type your weight'))\n",
    "\n",
    "if weight >= 90:\n",
    "    print('fat!', 'Exercies!')\n",
    "elif weight >= 60:\n",
    "    print('normal')\n",
    "else:\n",
    "    print('thin')\n",
    "    print('Eat more!')\n",
    "    #print('thin', 'Eat more!')\n",
    "    #print('thin \\nEat more!')"
   ]
  },
  {
   "cell_type": "code",
   "execution_count": 3,
   "id": "643f259b-9d75-45cd-b7fb-54f06147cfc7",
   "metadata": {},
   "outputs": [
    {
     "name": "stdin",
     "output_type": "stream",
     "text": [
      "Enter a grade 55\n"
     ]
    },
    {
     "name": "stdout",
     "output_type": "stream",
     "text": [
      "F\n"
     ]
    }
   ],
   "source": [
    "# Converting total grades into Letter grades\n",
    "\n",
    "grade = float(input('Enter a grade'))\n",
    "\n",
    "if grade >= 90:\n",
    "    print('A')\n",
    "if 90 > grade >= 80:\n",
    "    print('B')\n",
    "if 80 > grade >= 70:\n",
    "    print('C')\n",
    "if 70 > grade >= 60:\n",
    "    print('D')\n",
    "if grade < 60:\n",
    "    print('F')\n",
    "#else :\n",
    "# print('F')\n",
    "#else는 바로 앞의 if문에 대한 대구임.\n",
    "#if문이 여러개 있을 때는 else 쓰지 말자."
   ]
  },
  {
   "cell_type": "code",
   "execution_count": 4,
   "id": "c290b876-ef39-41b5-aa60-08aea622bfc0",
   "metadata": {},
   "outputs": [
    {
     "name": "stdin",
     "output_type": "stream",
     "text": [
      "Enter an integer grade 80\n"
     ]
    },
    {
     "name": "stdout",
     "output_type": "stream",
     "text": [
      "B\n"
     ]
    }
   ],
   "source": [
    "grade1 = int(input('Enter an integer grade'))\n",
    "\n",
    "if grade1 >= 90:\n",
    "    print('A')\n",
    "elif grade1 >= 80:\n",
    "    print('B')\n",
    "elif grade1 >= 70:\n",
    "    print('C')\n",
    "elif grade1 >= 60:\n",
    "    print('D')\n",
    "else:\n",
    "    print('F')\n",
    "# This is faster than the case above."
   ]
  },
  {
   "cell_type": "code",
   "execution_count": 5,
   "id": "39ac530e-c016-460b-9cbc-7012df5284e3",
   "metadata": {},
   "outputs": [
    {
     "name": "stdin",
     "output_type": "stream",
     "text": [
      "Type your weight in kg 55\n",
      "Type your height in cm 155\n"
     ]
    },
    {
     "name": "stdout",
     "output_type": "stream",
     "text": [
      "thin!\n",
      "Eat more!\n"
     ]
    }
   ],
   "source": [
    "#Using a more complex conditions with Boolean operators\n",
    "weight = int(input('Type your weight in kg'))\n",
    "height = int(input('Type your height in cm'))\n",
    "\n",
    "if weight >= 90 and height <= 150:\n",
    "    print('fat!', 'Exercies!')\n",
    "elif weight >= 60 or 160 <= height < 180:\n",
    "    print('normal')\n",
    "else:\n",
    "    print('thin!')\n",
    "    print('Eat more!')"
   ]
  },
  {
   "cell_type": "markdown",
   "id": "b3f39f0e-214e-4b1b-ab4e-03da653045a7",
   "metadata": {},
   "source": [
    "__2. While statement__"
   ]
  },
  {
   "cell_type": "markdown",
   "id": "a86cd691-1dfc-414c-828b-60eb31656a83",
   "metadata": {},
   "source": [
    "- Iteration, repeating the same suite, continue as long as condition remains true.\n",
    "- Sentinel-controlled iteration: repeats until a sentinal(flag, signal) value appears."
   ]
  },
  {
   "cell_type": "code",
   "execution_count": 7,
   "id": "311e0ff0-b13c-4048-af21-eb24f856c99b",
   "metadata": {},
   "outputs": [
    {
     "name": "stdout",
     "output_type": "stream",
     "text": [
      "2\n",
      "4\n",
      "8\n",
      "16\n",
      "32\n",
      "64\n",
      "128\n"
     ]
    }
   ],
   "source": [
    "# Calculating powers of 2\n",
    "k = 1  #initializing k\n",
    "\n",
    "while k <= 100:\n",
    "    k = k*2\n",
    "    print(k)  #Depending on indentation Level, outcome changes"
   ]
  },
  {
   "cell_type": "code",
   "execution_count": 8,
   "id": "c91bc036-ec4d-4396-b559-689ecbff375f",
   "metadata": {},
   "outputs": [
    {
     "name": "stdout",
     "output_type": "stream",
     "text": [
      "9 8 7 6 5 4 3 2 1 0 "
     ]
    }
   ],
   "source": [
    "# Subtracting 1 repeatedly\n",
    "l = 10\n",
    "while l > 0:\n",
    "    l = l - 1\n",
    "    print(l, end = ' ')  #printing horiziontally"
   ]
  },
  {
   "cell_type": "code",
   "execution_count": 1,
   "id": "f1c5013a-3afe-4117-bda7-a9f46e04f650",
   "metadata": {},
   "outputs": [
    {
     "name": "stdin",
     "output_type": "stream",
     "text": [
      "Enter grade or -1 to end:  20\n",
      "Enter grade or -1 to end:  50\n",
      "Enter grade or -1 to end:  90\n",
      "Enter grade or -1 to end:  85\n",
      "Enter grade or -1 to end:  65\n",
      "Enter grade or -1 to end:  -1\n"
     ]
    },
    {
     "name": "stdout",
     "output_type": "stream",
     "text": [
      "Total grade is 310\n",
      "The number of student is 5\n",
      "Class Average is 62.0\n"
     ]
    }
   ],
   "source": [
    "#Calculating the class average grade of an arbitrary number of students\n",
    "total = 0\n",
    "counter = 0\n",
    "\n",
    "#Taking grades\n",
    "grade = int(input('Enter grade or -1 to end: '))\n",
    "\n",
    "while grade != -1:\n",
    "    total += grade\n",
    "    counter += 1\n",
    "    grade = int(input('Enter grade or -1 to end: '))\n",
    "    \n",
    "#calculating the overage and printing results\n",
    "if counter != 0:\n",
    "    average = total/counter\n",
    "    print('Total grade is', total)\n",
    "    print('The number of student is', counter)\n",
    "    print(f'Class Average is {average}')  #a formatted string\n",
    "else:\n",
    "    print('No gradees were entered')\n",
    "    \n",
    "#Formatted string inserts values in a string.\n",
    "#The curly bracket { } converts the average value to a string."
   ]
  },
  {
   "cell_type": "code",
   "execution_count": null,
   "id": "f1fc088f-04ca-45d0-93fe-64c138a32450",
   "metadata": {},
   "outputs": [],
   "source": []
  }
 ],
 "metadata": {
  "kernelspec": {
   "display_name": "Python 3 (ipykernel)",
   "language": "python",
   "name": "python3"
  },
  "language_info": {
   "codemirror_mode": {
    "name": "ipython",
    "version": 3
   },
   "file_extension": ".py",
   "mimetype": "text/x-python",
   "name": "python",
   "nbconvert_exporter": "python",
   "pygments_lexer": "ipython3",
   "version": "3.8.12"
  }
 },
 "nbformat": 4,
 "nbformat_minor": 5
}
