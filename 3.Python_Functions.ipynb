{
 "cells": [
  {
   "cell_type": "markdown",
   "id": "fffed1ee-9217-4440-881e-aff0379ac508",
   "metadata": {},
   "source": [
    "## Python: Creating Functions"
   ]
  },
  {
   "cell_type": "markdown",
   "id": "017d90b7-7874-4544-8b04-a2564e6618e7",
   "metadata": {},
   "source": [
    "- Built-in functions: int, float, print, input, type, sum, etc.\n",
    "- Now we learn how to build your own custom functions, performing specific tasks.\n",
    "- A function starts with the keyword, __def__, which is __follewed by its name starting with a lowercase letter__.\n",
    "You may use __underscores__ to separate words in name, say, circle_area_circum. It it recommended to put a \n",
    "__docstring__, explaining the purpose of a function, right below the definition of a function.\n",
    "- At the end we learn random number generation and importing libraries."
   ]
  },
  {
   "cell_type": "markdown",
   "id": "781127ff-0fe1-4b4f-917a-1577316853f5",
   "metadata": {},
   "source": [
    "__1. Creating your own functions with a single parameter__"
   ]
  },
  {
   "cell_type": "code",
   "execution_count": 3,
   "id": "7c168a9b-a81b-4bd2-81db-184598919510",
   "metadata": {},
   "outputs": [],
   "source": [
    "# Calculating the area.and circumference of a circle\n",
    "import math #importing math module of Python for using pi\n",
    "\n",
    "def circle(radius): #defining a function called circle\n",
    "    \"\"\"Calculates area and circumference of a circle with a radidus\"\"\" # a docstring\n",
    "    \n",
    "    return math.pi*radius**2, 2*math.pi*radius    # End of a function"
   ]
  },
  {
   "cell_type": "code",
   "execution_count": 4,
   "id": "a7717bc2-6cff-4344-8a3e-51107b412fb9",
   "metadata": {},
   "outputs": [
    {
     "data": {
      "text/plain": [
       "(28.274333882308138, 18.84955592153876)"
      ]
     },
     "execution_count": 4,
     "metadata": {},
     "output_type": "execute_result"
    }
   ],
   "source": [
    "# calling a function and offering a radius value\n",
    "circle(3)"
   ]
  },
  {
   "cell_type": "code",
   "execution_count": 5,
   "id": "b0115f95-29dc-473a-a735-40ad7aa6b19b",
   "metadata": {},
   "outputs": [
    {
     "name": "stdout",
     "output_type": "stream",
     "text": [
      "The area and circumference of a circle with 3cm radius are 28.27cm squared and 18.85cm.\n"
     ]
    }
   ],
   "source": [
    "\n",
    "# Function calls can be embedded.\n",
    "x = 3\n",
    "\n",
    "# formatted String : print(f''), 숫자/수식은 {}\n",
    "print(f'The area and circumference of a circle with {x}cm radius \\\n",
    "are {circle(x)[0]:.2f}cm squared and {circle(x)[1]:.2f}cm.')"
   ]
  },
  {
   "cell_type": "code",
   "execution_count": 6,
   "id": "1776aa68-cdde-4743-8415-91d32ae3a445",
   "metadata": {},
   "outputs": [
    {
     "data": {
      "text/plain": [
       "\u001b[0;31mSignature:\u001b[0m \u001b[0mcircle\u001b[0m\u001b[0;34m(\u001b[0m\u001b[0mradius\u001b[0m\u001b[0;34m)\u001b[0m\u001b[0;34m\u001b[0m\u001b[0;34m\u001b[0m\u001b[0m\n",
       "\u001b[0;31mDocstring:\u001b[0m Calculates area and circumference of a circle with a radidus\n",
       "\u001b[0;31mFile:\u001b[0m      /var/folders/9n/h4m1dt7x74xbyhtnl5th0flr0000gn/T/ipykernel_74839/1828596209.py\n",
       "\u001b[0;31mType:\u001b[0m      function\n"
      ]
     },
     "metadata": {},
     "output_type": "display_data"
    }
   ],
   "source": [
    "# Looking up a function's docstring\n",
    "circle?"
   ]
  },
  {
   "cell_type": "markdown",
   "id": "dea9a66c-3e58-4591-a9a7-db3a37e84328",
   "metadata": {},
   "source": [
    "__2. Creating functions with multiple parameters__"
   ]
  },
  {
   "cell_type": "code",
   "execution_count": 8,
   "id": "353efacb-20bb-4fa8-a5c8-4164327cc902",
   "metadata": {},
   "outputs": [],
   "source": [
    "# parameters, x and y, are comma separated and called local variables.\n",
    "def myfunction(x, y):\n",
    "    \"\"\"addition, multiplication and division\"\"\"\n",
    "    \n",
    "    return x+y, x*y, x/y"
   ]
  },
  {
   "cell_type": "code",
   "execution_count": 9,
   "id": "38c0167f-f792-40e4-bea4-5e9a12a23afd",
   "metadata": {},
   "outputs": [
    {
     "data": {
      "text/plain": [
       "(18, 45, 5.0)"
      ]
     },
     "execution_count": 9,
     "metadata": {},
     "output_type": "execute_result"
    }
   ],
   "source": [
    "myfunction(15,3)"
   ]
  },
  {
   "cell_type": "code",
   "execution_count": null,
   "id": "08a505b2-fe53-4eba-a1df-5eb97b256d80",
   "metadata": {},
   "outputs": [],
   "source": [
    "# A function without parameters\n",
    "def findmin():\n",
    "    \"\"\"Finding the minimum among three integers\"\"\"\n",
    "    \n",
    "    x=int(input('Enter first integer: '))\n",
    "    y=int(input('Enter second integer: '))\n",
    "    z=int(input('Enter third integer: '))\n",
    "    minimum = x\n",
    "    if y < minimum:\n",
    "        minimum = y\n",
    "    if z < minimum:\n",
    "        minimum = z\n",
    "    return minimum"
   ]
  },
  {
   "cell_type": "code",
   "execution_count": 11,
   "id": "3f5c139f-6abc-412a-947c-e89a3e7229d9",
   "metadata": {},
   "outputs": [
    {
     "name": "stdin",
     "output_type": "stream",
     "text": [
      "Enter first integer:  12\n",
      "Enter second integer:  32\n",
      "Enter third integer:  6\n"
     ]
    },
    {
     "data": {
      "text/plain": [
       "6"
      ]
     },
     "execution_count": 11,
     "metadata": {},
     "output_type": "execute_result"
    }
   ],
   "source": [
    "findmin()"
   ]
  },
  {
   "cell_type": "code",
   "execution_count": 13,
   "id": "348b021d-1a75-4692-947e-9c9c43e16975",
   "metadata": {},
   "outputs": [],
   "source": [
    "def findmin1(x, y, z):\n",
    "    \"\"\"Another function for finding a minimum\"\"\"\n",
    "    \n",
    "    return min(x, y, z)"
   ]
  },
  {
   "cell_type": "code",
   "execution_count": 16,
   "id": "6167f5ba-8915-4fe4-982e-b51722d21978",
   "metadata": {},
   "outputs": [
    {
     "name": "stdout",
     "output_type": "stream",
     "text": [
      "7\n",
      "3\n"
     ]
    }
   ],
   "source": [
    "print(findmin1(7, 8, 9))\n",
    "print(x) #printing a global variable, x."
   ]
  },
  {
   "cell_type": "code",
   "execution_count": 17,
   "id": "9d5b89f4-c42d-4a7d-be5e-491a921aaf16",
   "metadata": {},
   "outputs": [
    {
     "name": "stdout",
     "output_type": "stream",
     "text": [
      "Minimum is 8.\n"
     ]
    }
   ],
   "source": [
    "print(f'Minimum is {findmin1(10, 8, 9)}.')"
   ]
  },
  {
   "cell_type": "markdown",
   "id": "540f3eae-1114-444b-8a9f-4580429d2758",
   "metadata": {},
   "source": [
    "__3. FUncitions with default parameter. values__"
   ]
  },
  {
   "cell_type": "code",
   "execution_count": 18,
   "id": "d7ebe5b4-be8f-436c-9a7d-c7de37647108",
   "metadata": {},
   "outputs": [],
   "source": [
    "def rectangle(width=3, height=5):\n",
    "    \"\"\"Calculating the area of a rectangle\"\"\"\n",
    "    \n",
    "    return width*height"
   ]
  },
  {
   "cell_type": "code",
   "execution_count": 19,
   "id": "23f5ac1a-a56b-401e-be05-b81b2e26f1eb",
   "metadata": {},
   "outputs": [
    {
     "name": "stdout",
     "output_type": "stream",
     "text": [
      "15 25 20\n"
     ]
    }
   ],
   "source": [
    "print(rectangle(), rectangle(5), rectangle(4,5))"
   ]
  },
  {
   "cell_type": "code",
   "execution_count": 20,
   "id": "e573a0b8-1e0c-4663-bd43-382c39f75de3",
   "metadata": {},
   "outputs": [
    {
     "name": "stdout",
     "output_type": "stream",
     "text": [
      "12 42\n"
     ]
    }
   ],
   "source": [
    "print(rectangle(height=4), rectangle(height=6, width=7))"
   ]
  },
  {
   "cell_type": "markdown",
   "id": "4d814233-d909-4967-b257-e8728fe55185",
   "metadata": {},
   "source": [
    "__4. A function taking and arbitrary number fof argument__"
   ]
  },
  {
   "cell_type": "code",
   "execution_count": 23,
   "id": "28685038-9cbb-4ef2-a63d-67750bab7ed3",
   "metadata": {},
   "outputs": [],
   "source": [
    "#유연하게 input 받고 싶을 때 *만 붙여주면 됨!!!\n",
    "def my_average(*nums):\n",
    "    \"\"\"Calculating average with multiple numbers\"\"\"\n",
    "    \n",
    "    return sum(nums)/len(nums)"
   ]
  },
  {
   "cell_type": "code",
   "execution_count": 24,
   "id": "26125951-af05-4acf-a94a-dc3ab607e49c",
   "metadata": {},
   "outputs": [
    {
     "data": {
      "text/plain": [
       "58.6"
      ]
     },
     "execution_count": 24,
     "metadata": {},
     "output_type": "execute_result"
    }
   ],
   "source": [
    "my_average(68, 23, 45, 67, 90)"
   ]
  },
  {
   "cell_type": "code",
   "execution_count": 25,
   "id": "e61fde9e-6b92-490b-8cb7-3da44015094f",
   "metadata": {},
   "outputs": [
    {
     "data": {
      "text/plain": [
       "5.5"
      ]
     },
     "execution_count": 25,
     "metadata": {},
     "output_type": "execute_result"
    }
   ],
   "source": [
    "grades = [1,2,3,4,5,6,7,8,9,10]\n",
    "my_average(*grades)"
   ]
  },
  {
   "cell_type": "markdown",
   "id": "db6a3985-9b31-40da-b23e-8b0c3161f799",
   "metadata": {},
   "source": [
    "__5. Main function and_name_variable__"
   ]
  },
  {
   "cell_type": "markdown",
   "id": "1a04ee47-77de-4866-9aef-0e8cee0ba124",
   "metadata": {},
   "source": [
    "- The main function is the point of executing a python program.\n",
    "- It works only when the program is executed directly(i.e., as a Python script, not as a module imported in other scripts).\n",
    "- The name variable is a special variable of Python, evaluating the name of current program.\n",
    "- It also takes\"_ _main_ _\" when a script is executed directly.\n",
    "- 프로그램의 시작점을 쉽게 알 수 있다! main function을 사용하면!"
   ]
  },
  {
   "cell_type": "code",
   "execution_count": 37,
   "id": "50645d63-1c1e-4952-b42b-0550d3dfd1bd",
   "metadata": {},
   "outputs": [
    {
     "name": "stdout",
     "output_type": "stream",
     "text": [
      "The area and circumference of a circle with 5cm radius    are 78.54cm squared and 31.416cm.\n",
      "Main function is executed!\n"
     ]
    },
    {
     "data": {
      "text/plain": [
       "'__main__'"
      ]
     },
     "execution_count": 37,
     "metadata": {},
     "output_type": "execute_result"
    }
   ],
   "source": [
    "def yang(x):\n",
    "    \"\"\"An excercise of main function\"\"\"\n",
    "    print(f'The area and circumference of a circle with {x}cm radius\\\n",
    "    are {circle(x)[0]:.2f}cm squared and {circle(x)[1]:.3f}cm.')\n",
    "    print('Main function is executed!')\n",
    "    \n",
    "#독립된 프로그램일 때 if이 충족되어 실행됨.     \n",
    "#if __name__ == '__main__':\n",
    "#    main(3)\n",
    "yang(5); __name__"
   ]
  },
  {
   "cell_type": "code",
   "execution_count": 32,
   "id": "b364cb1c-2371-42b4-9abc-2921599190e6",
   "metadata": {},
   "outputs": [
    {
     "name": "stdout",
     "output_type": "stream",
     "text": [
      "The area and circumference of a circle with 7cm radius    are 153.94cm squared and 43.982cm.\n",
      "Main function is executed!\n",
      "The area and circumference of a circle with 7cm radius    are 153.94cm squared and 43.982cm.\n",
      "Main function is executed!\n"
     ]
    }
   ],
   "source": [
    "# When a source file is run as a main program, the source file program has the name, __main__.\n",
    "# And if clause becomes Trur and the main function is executed.\n",
    "%run main_function.py  #or #run -i main_function.py\n",
    "!python main_function.py"
   ]
  },
  {
   "cell_type": "code",
   "execution_count": 36,
   "id": "879d5521-5cd7-449a-b04a-fc1f9c0573e9",
   "metadata": {},
   "outputs": [
    {
     "name": "stdout",
     "output_type": "stream",
     "text": [
      "(78.53981633974483, 31.41592653589793)\n",
      "main_function\n"
     ]
    }
   ],
   "source": [
    "#파일을 import해서 사용\n",
    "#단, 모듈로 불러오면 if __name__ == '__main__'이 충족이 안돼서 실행 안됨\n",
    "import main_function as mf\n",
    "print(mf.circle(5))\n",
    "print(mf.__name__)"
   ]
  },
  {
   "cell_type": "markdown",
   "id": "9b4e4bfa-f9b2-45b2-89a5-4ef5405c3b5e",
   "metadata": {},
   "source": [
    "__6. Python standard libraries__"
   ]
  },
  {
   "cell_type": "markdown",
   "id": "51c362c2-a75a-495e-9fcd-657cc6177ce8",
   "metadata": {},
   "source": [
    "- https://docs.python.org/3/library/\n",
    "- popular ones are math, random, csv, decimal, daetime, json, statistics, etc.\n",
    "- Math module: https://docs.python.org/3/library/math.html"
   ]
  },
  {
   "cell_type": "markdown",
   "id": "709ea67b-02d7-4246-8166-dec1a41d2f62",
   "metadata": {},
   "source": [
    "__7. Using tab key for completing libraries__"
   ]
  },
  {
   "cell_type": "markdown",
   "id": "5a45be87-e28d-447d-827c-04c5b544f677",
   "metadata": {},
   "source": [
    "- __ma+Tab__ key will show a list of identifiers starting with 'ma'.\n",
    "- __Looking up functions__ in a library with Tab key, e.g., math.Tab key. There are functions and in(constants).\n",
    "- __Questioning a function__ with the question mark, ?."
   ]
  },
  {
   "cell_type": "code",
   "execution_count": null,
   "id": "c9f9f51b-71eb-4801-8e18-77eb08097345",
   "metadata": {},
   "outputs": [],
   "source": [
    "ma"
   ]
  },
  {
   "cell_type": "code",
   "execution_count": null,
   "id": "311d7256-fa7b-4070-b560-1f8bd5d93e5d",
   "metadata": {},
   "outputs": [],
   "source": [
    "math.?"
   ]
  },
  {
   "cell_type": "code",
   "execution_count": null,
   "id": "3ab8b69f-c458-4e5e-a557-1422bbb8e938",
   "metadata": {},
   "outputs": [],
   "source": [
    "math.fabs?"
   ]
  },
  {
   "cell_type": "markdown",
   "id": "8922220d-e976-401c-a649-69f5e83cdd1c",
   "metadata": {},
   "source": [
    "__7.Methods in Python__"
   ]
  },
  {
   "cell_type": "markdown",
   "id": "29b10b27-3393-4d8c-9aab-79e7ea937a7c",
   "metadata": {},
   "source": [
    "- Methods are functions you can call on your object.\n",
    "- __syntax__: Your_object_name:method_name(arguments)."
   ]
  },
  {
   "cell_type": "code",
   "execution_count": 39,
   "id": "174edd1d-74b3-4818-87bb-c9f9d3d31deb",
   "metadata": {},
   "outputs": [
    {
     "name": "stdout",
     "output_type": "stream",
     "text": [
      "ayoung yang AYOUNG YANG Ayoung Yang\n"
     ]
    }
   ],
   "source": [
    "my_name = 'Ayoung Yang'\n",
    "print(my_name.lower(), my_name.upper(), my_name)"
   ]
  },
  {
   "cell_type": "markdown",
   "id": "7cd545d8-ac0e-4be2-b699-25dd3d2b91b8",
   "metadata": {},
   "source": [
    "__8. Random number generation in Python__"
   ]
  },
  {
   "cell_type": "code",
   "execution_count": 41,
   "id": "e28fe106-6b73-4a4a-8327-689fbe694faa",
   "metadata": {},
   "outputs": [
    {
     "name": "stdout",
     "output_type": "stream",
     "text": [
      "2 1 5 2 4 5 2 2 1 2 "
     ]
    }
   ],
   "source": [
    "# importing random module\n",
    "import random\n",
    "\n",
    "for roll in range(10):  # Extracting ten random numbers in [1 and 6].\n",
    "    print(random.randrange(1, 7), end=' ')\n",
    "    # randrage built-in function generates integers within a range"
   ]
  },
  {
   "cell_type": "code",
   "execution_count": 43,
   "id": "3cc72a08-3305-42d3-be53-f7a156b313b4",
   "metadata": {},
   "outputs": [
    {
     "name": "stdout",
     "output_type": "stream",
     "text": [
      "Face    Frequency     Ratio\n",
      "   0         5046     50.46\n",
      "   1         4954     49.54\n"
     ]
    }
   ],
   "source": [
    "### Roll a coin 10,000 times ###\n",
    "\n",
    "#초기화\n",
    "frequency0 = 0\n",
    "frequency1 = 0\n",
    "#sampling 횟수\n",
    "#_ 쓴 이유는 .으로 표현할 수 없기 때문에! 1000단위 구분할 때 _ 사용\n",
    "sample = 10_000\n",
    "\n",
    "for roll in range(sample):\n",
    "    face = random.randrange(0,2)\n",
    "    if face == 0:\n",
    "        frequency0 += 1\n",
    "    else:\n",
    "        frequency1 += 1\n",
    "\n",
    "print(f'{\"Face\"}{\"Frequency\":>13}{\"Ratio\":>10}')\n",
    "print(f'{0:>4}{frequency0:>13}{frequency0/sample*100:>10.2f}')\n",
    "print(f'{1:>4}{frequency1:>13}{frequency1/sample*100:>10.2f}')\n",
    "# A tip for f-string use\n",
    "# for right alignment, use >.\n",
    "# for left alignment, use <."
   ]
  },
  {
   "cell_type": "code",
   "execution_count": 45,
   "id": "52641102-bef1-4da4-b502-8c3192f2b292",
   "metadata": {},
   "outputs": [
    {
     "name": "stdout",
     "output_type": "stream",
     "text": [
      "6 1 4 3 5 4 1 2 6 6 \n",
      "4 4 2 5 2 4 6 3 6 2 "
     ]
    }
   ],
   "source": [
    "# Using seed function to generate the same random unmbers\n",
    "random.seed(20220328)\n",
    "\n",
    "for roll in range(10):\n",
    "    print(random.randrange(1, 7), end=' ')\n",
    "\n",
    "print()\n",
    "for roll in range(10):\n",
    "    print(random.randrange(1, 7), end=' ')"
   ]
  },
  {
   "cell_type": "code",
   "execution_count": 48,
   "id": "b3ef7afc-0cb5-42c2-b703-fdde458e386d",
   "metadata": {},
   "outputs": [
    {
     "name": "stdout",
     "output_type": "stream",
     "text": [
      "4 2 1 4 5 2 6 1 4 3 "
     ]
    }
   ],
   "source": [
    "# seed number 영향은 그 셀만!\n",
    "for roll in range(10):\n",
    "    print(random.randrange(1, 7), end=' ')"
   ]
  },
  {
   "cell_type": "markdown",
   "id": "034bed9c-43fe-40c1-8eac-29cfeea0fb01",
   "metadata": {},
   "source": [
    "__9. Importing libraries and modules in Python__"
   ]
  },
  {
   "cell_type": "markdown",
   "id": "75338596-b1c2-4f59-a398-df4404c5f247",
   "metadata": {},
   "source": [
    "- __importing library_name__ (import math, to use functions math.pi)\n",
    "- __importing specific functions or constants of a library__ (from math import ceil, sum --> you can just use\n",
    "imported function or instance names.)\n",
    "- importing a library with __an abbreviated name__ (import statistics as stat, stat.mean())"
   ]
  },
  {
   "cell_type": "code",
   "execution_count": 53,
   "id": "70d64fc9-096e-4edf-96a8-2e40da436df5",
   "metadata": {},
   "outputs": [
    {
     "name": "stdout",
     "output_type": "stream",
     "text": [
      "3.141592653589793 10 9\n",
      "4\n"
     ]
    }
   ],
   "source": [
    "# import math\n",
    "from math import ceil, floor, pi\n",
    "import statistics as stat\n",
    "\n",
    "print(pi, ceil(9.8), floor(9.8))\n",
    "x = [3,4,5]\n",
    "print(stat.mean(x))"
   ]
  }
 ],
 "metadata": {
  "kernelspec": {
   "display_name": "Python 3 (ipykernel)",
   "language": "python",
   "name": "python3"
  },
  "language_info": {
   "codemirror_mode": {
    "name": "ipython",
    "version": 3
   },
   "file_extension": ".py",
   "mimetype": "text/x-python",
   "name": "python",
   "nbconvert_exporter": "python",
   "pygments_lexer": "ipython3",
   "version": "3.8.12"
  }
 },
 "nbformat": 4,
 "nbformat_minor": 5
}
